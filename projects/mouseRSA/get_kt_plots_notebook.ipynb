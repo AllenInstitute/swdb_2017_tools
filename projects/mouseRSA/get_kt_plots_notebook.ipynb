{
 "cells": [
  {
   "cell_type": "code",
   "execution_count": 514,
   "metadata": {
    "collapsed": true
   },
   "outputs": [],
   "source": [
    "#make sure your drive path is correct! \n",
    "# macOS/OS X\n",
    "# drive_path = '/Volumes/Brain2017/data/dynamic-brain-workshop/brain_observatory_cache/'\n",
    "\n",
    "# Windows (a good guess)\n",
    "# drive_path = 'e:/data/dynamic-brain-workshop/brain_observatory_cache'\n",
    "\n",
    "# Linux (will vary; the following is possibly what Ubuntu will do)\n",
    "# drive_path = '/media/Brain2017/data/dynamic-brain-workshop/brain_observatory_cache'\n",
    "\n",
    "# AWS\n",
    "drive_path = '/data/dynamic-brain-workshop/brain_observatory_cache/'"
   ]
  },
  {
   "cell_type": "code",
   "execution_count": 515,
   "metadata": {
    "collapsed": true
   },
   "outputs": [],
   "source": [
    "# We need to import these modules to get started\n",
    "import numpy as np\n",
    "import pandas as pd\n",
    "import os\n",
    "import sys\n",
    "import h5py\n",
    "import seaborn as sns \n",
    "\n",
    "import matplotlib.pyplot as plt\n",
    "%matplotlib inline"
   ]
  },
  {
   "cell_type": "code",
   "execution_count": 516,
   "metadata": {},
   "outputs": [
    {
     "name": "stdout",
     "output_type": "stream",
     "text": [
      "/data/dynamic-brain-workshop/brain_observatory_cache/brain_observatory_manifest.json\n"
     ]
    }
   ],
   "source": [
    "from allensdk.core.brain_observatory_cache import BrainObservatoryCache\n",
    "\n",
    "manifest_file = os.path.join(drive_path,'brain_observatory_manifest.json')\n",
    "print manifest_file\n",
    "\n",
    "boc = BrainObservatoryCache(manifest_file=manifest_file)"
   ]
  },
  {
   "cell_type": "code",
   "execution_count": 517,
   "metadata": {
    "collapsed": true
   },
   "outputs": [],
   "source": [
    "def vectorize(mat):\n",
    "    \"\"\"Takes a square symmetric matrix mat and returns the vectorized form. Like matlab's squareform.\n",
    "\n",
    "         Note: could probably also just use scipy's squareform function.\"\"\"\n",
    "    assert mat.shape[0] == mat.shape[1]\n",
    "\n",
    "    vec = mat[:, 0]\n",
    "    for row in range(1, mat.shape[1]):\n",
    "        vec = np.concatenate((vec, mat[row:, row]))\n",
    "\n",
    "    return vec"
   ]
  },
  {
   "cell_type": "code",
   "execution_count": 518,
   "metadata": {
    "collapsed": true
   },
   "outputs": [],
   "source": [
    "from scipy.stats import kendalltau as kt\n",
    "import numpy as np\n",
    "import scipy.spatial.distance\n",
    "def get_kt(rsm1,rsm2):\n",
    "    '''Gets Kendall tau-a measurements between two RDM matrices, first vectorizes matrices\n",
    "    and then computes kt using scipy kendall-tau function'''\n",
    "    np.fill_diagonal(rsm1,0)\n",
    "    np.fill_diagonal(rsm2,0)\n",
    "    vec_rsm1 = vectorize(rsm1)\n",
    "    #\n",
    "    vec_rsm2 = vectorize(rsm2)\n",
    "\n",
    "    #vec_rsm1 = scipy.spatial.distance.squareform(rsm1)\n",
    "    #vec_rsm2 = scipy.spatial.distance.squareform(rsm2)\n",
    "    k = kt(vec_rsm1, vec_rsm2).correlation\n",
    "    return k"
   ]
  },
  {
   "cell_type": "code",
   "execution_count": 519,
   "metadata": {
    "collapsed": true
   },
   "outputs": [],
   "source": [
    "exps=pd.read_hdf(r'/home/arib/SWDB_2017/swdb_2017_tools/projects/mouseRSA/exps_w_RSA.h5',mode='r')"
   ]
  },
  {
   "cell_type": "code",
   "execution_count": 520,
   "metadata": {},
   "outputs": [
    {
     "data": {
      "text/html": [
       "<div>\n",
       "<table border=\"1\" class=\"dataframe\">\n",
       "  <thead>\n",
       "    <tr style=\"text-align: right;\">\n",
       "      <th></th>\n",
       "      <th>cre_line</th>\n",
       "      <th>donor_name</th>\n",
       "      <th>failed</th>\n",
       "      <th>id</th>\n",
       "      <th>imaging_depth</th>\n",
       "      <th>reporter_line</th>\n",
       "      <th>specimen_name</th>\n",
       "      <th>tags</th>\n",
       "      <th>targeted_structure</th>\n",
       "      <th>rsa_mean_mean_mahala</th>\n",
       "      <th>rsa_random_mean_mahala</th>\n",
       "      <th>rsa_mean_mean_spectral_embedding</th>\n",
       "      <th>rsa_mean_mean_PCA</th>\n",
       "    </tr>\n",
       "  </thead>\n",
       "  <tbody>\n",
       "    <tr>\n",
       "      <th>0</th>\n",
       "      <td>Cux2-CreERT2</td>\n",
       "      <td>283284</td>\n",
       "      <td>False</td>\n",
       "      <td>566759225</td>\n",
       "      <td>275</td>\n",
       "      <td>Ai93(TITL-GCaMP6f)</td>\n",
       "      <td>Cux2-CreERT2;Camk2a-tTA;Ai93-283284</td>\n",
       "      <td>[]</td>\n",
       "      <td>VISam</td>\n",
       "      <td>[[0.0, 15.0717277058, 11.2159497239, 12.801501...</td>\n",
       "      <td>[[0.0, 15.0717277058, 11.2159497239, 12.801501...</td>\n",
       "      <td>0</td>\n",
       "      <td>[[0.0, 23.0786825252, 21.2174191481, 22.739709...</td>\n",
       "    </tr>\n",
       "    <tr>\n",
       "      <th>1</th>\n",
       "      <td>Nr5a1-Cre</td>\n",
       "      <td>261969</td>\n",
       "      <td>False</td>\n",
       "      <td>546328009</td>\n",
       "      <td>350</td>\n",
       "      <td>Ai93(TITL-GCaMP6f)</td>\n",
       "      <td>Nr5a1-Cre;Camk2a-tTA;Ai93-261969</td>\n",
       "      <td>[]</td>\n",
       "      <td>VISal</td>\n",
       "      <td>[[0.0, 0.741935932081, 0.599953696213, 0.80095...</td>\n",
       "      <td>[[0.0, 0.741935932081, 0.599953696213, 0.80095...</td>\n",
       "      <td>0</td>\n",
       "      <td>[[0.0, 7.53542946705, 3.31196403877, 9.4400437...</td>\n",
       "    </tr>\n",
       "    <tr>\n",
       "      <th>2</th>\n",
       "      <td>Scnn1a-Tg3-Cre</td>\n",
       "      <td>230570</td>\n",
       "      <td>False</td>\n",
       "      <td>511510911</td>\n",
       "      <td>350</td>\n",
       "      <td>Ai93(TITL-GCaMP6f)</td>\n",
       "      <td>Scnn1a-Tg3-Cre;Camk2a-tTA;Ai93-230570</td>\n",
       "      <td>[]</td>\n",
       "      <td>VISp</td>\n",
       "      <td>[[0.0, 9.96030325168, 10.2589451811, 8.3752674...</td>\n",
       "      <td>[[0.0, 9.96030325168, 10.2589451811, 8.3752674...</td>\n",
       "      <td>0</td>\n",
       "      <td>[[0.0, 24.1404450884, 30.7306092291, 21.571387...</td>\n",
       "    </tr>\n",
       "    <tr>\n",
       "      <th>3</th>\n",
       "      <td>Emx1-IRES-Cre</td>\n",
       "      <td>284669</td>\n",
       "      <td>False</td>\n",
       "      <td>569792815</td>\n",
       "      <td>375</td>\n",
       "      <td>Ai93(TITL-GCaMP6f)</td>\n",
       "      <td>Emx1-IRES-Cre;Camk2a-tTA;Ai93-284669</td>\n",
       "      <td>[]</td>\n",
       "      <td>VISam</td>\n",
       "      <td>[[0.0, 3.49558131281, 2.87681318643, 2.5342243...</td>\n",
       "      <td>[[0.0, 3.49558131281, 2.87681318643, 2.5342243...</td>\n",
       "      <td>0</td>\n",
       "      <td>[[0.0, 8.53032612269, 9.03611995897, 6.9925695...</td>\n",
       "    </tr>\n",
       "    <tr>\n",
       "      <th>4</th>\n",
       "      <td>Rbp4-Cre_KL100</td>\n",
       "      <td>234584</td>\n",
       "      <td>False</td>\n",
       "      <td>511511015</td>\n",
       "      <td>375</td>\n",
       "      <td>Ai93(TITL-GCaMP6f)</td>\n",
       "      <td>Rbp4-Cre;Camk2a-tTA;Ai93-234584</td>\n",
       "      <td>[]</td>\n",
       "      <td>VISpm</td>\n",
       "      <td>[[0.0, 3.58087458183, 2.79741660163, 3.4468557...</td>\n",
       "      <td>[[0.0, 3.58087458183, 2.79741660163, 3.4468557...</td>\n",
       "      <td>0</td>\n",
       "      <td>[[0.0, 26.8089158925, 21.1489539612, 25.902355...</td>\n",
       "    </tr>\n",
       "  </tbody>\n",
       "</table>\n",
       "</div>"
      ],
      "text/plain": [
       "         cre_line donor_name failed         id  imaging_depth  \\\n",
       "0    Cux2-CreERT2     283284  False  566759225            275   \n",
       "1       Nr5a1-Cre     261969  False  546328009            350   \n",
       "2  Scnn1a-Tg3-Cre     230570  False  511510911            350   \n",
       "3   Emx1-IRES-Cre     284669  False  569792815            375   \n",
       "4  Rbp4-Cre_KL100     234584  False  511511015            375   \n",
       "\n",
       "        reporter_line                          specimen_name tags  \\\n",
       "0  Ai93(TITL-GCaMP6f)    Cux2-CreERT2;Camk2a-tTA;Ai93-283284   []   \n",
       "1  Ai93(TITL-GCaMP6f)       Nr5a1-Cre;Camk2a-tTA;Ai93-261969   []   \n",
       "2  Ai93(TITL-GCaMP6f)  Scnn1a-Tg3-Cre;Camk2a-tTA;Ai93-230570   []   \n",
       "3  Ai93(TITL-GCaMP6f)   Emx1-IRES-Cre;Camk2a-tTA;Ai93-284669   []   \n",
       "4  Ai93(TITL-GCaMP6f)        Rbp4-Cre;Camk2a-tTA;Ai93-234584   []   \n",
       "\n",
       "  targeted_structure                               rsa_mean_mean_mahala  \\\n",
       "0              VISam  [[0.0, 15.0717277058, 11.2159497239, 12.801501...   \n",
       "1              VISal  [[0.0, 0.741935932081, 0.599953696213, 0.80095...   \n",
       "2               VISp  [[0.0, 9.96030325168, 10.2589451811, 8.3752674...   \n",
       "3              VISam  [[0.0, 3.49558131281, 2.87681318643, 2.5342243...   \n",
       "4              VISpm  [[0.0, 3.58087458183, 2.79741660163, 3.4468557...   \n",
       "\n",
       "                              rsa_random_mean_mahala  \\\n",
       "0  [[0.0, 15.0717277058, 11.2159497239, 12.801501...   \n",
       "1  [[0.0, 0.741935932081, 0.599953696213, 0.80095...   \n",
       "2  [[0.0, 9.96030325168, 10.2589451811, 8.3752674...   \n",
       "3  [[0.0, 3.49558131281, 2.87681318643, 2.5342243...   \n",
       "4  [[0.0, 3.58087458183, 2.79741660163, 3.4468557...   \n",
       "\n",
       "  rsa_mean_mean_spectral_embedding  \\\n",
       "0                                0   \n",
       "1                                0   \n",
       "2                                0   \n",
       "3                                0   \n",
       "4                                0   \n",
       "\n",
       "                                   rsa_mean_mean_PCA  \n",
       "0  [[0.0, 23.0786825252, 21.2174191481, 22.739709...  \n",
       "1  [[0.0, 7.53542946705, 3.31196403877, 9.4400437...  \n",
       "2  [[0.0, 24.1404450884, 30.7306092291, 21.571387...  \n",
       "3  [[0.0, 8.53032612269, 9.03611995897, 6.9925695...  \n",
       "4  [[0.0, 26.8089158925, 21.1489539612, 25.902355...  "
      ]
     },
     "execution_count": 520,
     "metadata": {},
     "output_type": "execute_result"
    }
   ],
   "source": [
    "exps.head()"
   ]
  },
  {
   "cell_type": "code",
   "execution_count": 572,
   "metadata": {
    "collapsed": true
   },
   "outputs": [],
   "source": [
    "exps.loc[(exps.imaging_depth>100) & (exps.imaging_depth<=200),'imaging_depth']=175\n",
    "\n",
    "exps.loc[(exps.imaging_depth>300) & (exps.imaging_depth<500),'imaging_depth']=350\n",
    "exps.loc[(exps.imaging_depth>200) & (exps.imaging_depth<=300),'imaging_depth']=275\n",
    "exps.loc[(exps.cre_line=='Nr5a1-Cre'),'imaging_depth']=275"
   ]
  },
  {
   "cell_type": "code",
   "execution_count": 662,
   "metadata": {
    "collapsed": true
   },
   "outputs": [],
   "source": [
    "exps.layer=[]\n"
   ]
  },
  {
   "cell_type": "code",
   "execution_count": 664,
   "metadata": {},
   "outputs": [
    {
     "data": {
      "text/html": [
       "<div>\n",
       "<table border=\"1\" class=\"dataframe\">\n",
       "  <thead>\n",
       "    <tr style=\"text-align: right;\">\n",
       "      <th></th>\n",
       "      <th>cre_line</th>\n",
       "      <th>donor_name</th>\n",
       "      <th>failed</th>\n",
       "      <th>id</th>\n",
       "      <th>imaging_depth</th>\n",
       "      <th>reporter_line</th>\n",
       "      <th>specimen_name</th>\n",
       "      <th>tags</th>\n",
       "      <th>targeted_structure</th>\n",
       "      <th>rsa_mean_mean_mahala</th>\n",
       "      <th>rsa_random_mean_mahala</th>\n",
       "      <th>rsa_mean_mean_spectral_embedding</th>\n",
       "      <th>rsa_mean_mean_PCA</th>\n",
       "    </tr>\n",
       "  </thead>\n",
       "  <tbody>\n",
       "    <tr>\n",
       "      <th>0</th>\n",
       "      <td>Cux2-CreERT2</td>\n",
       "      <td>283284</td>\n",
       "      <td>False</td>\n",
       "      <td>566759225</td>\n",
       "      <td>275</td>\n",
       "      <td>Ai93(TITL-GCaMP6f)</td>\n",
       "      <td>Cux2-CreERT2;Camk2a-tTA;Ai93-283284</td>\n",
       "      <td>[]</td>\n",
       "      <td>VISam</td>\n",
       "      <td>[[0.0, 15.0717277058, 11.2159497239, 12.801501...</td>\n",
       "      <td>[[0.0, 15.0717277058, 11.2159497239, 12.801501...</td>\n",
       "      <td>0</td>\n",
       "      <td>[[0.0, 23.0786825252, 21.2174191481, 22.739709...</td>\n",
       "    </tr>\n",
       "    <tr>\n",
       "      <th>1</th>\n",
       "      <td>Nr5a1-Cre</td>\n",
       "      <td>261969</td>\n",
       "      <td>False</td>\n",
       "      <td>546328009</td>\n",
       "      <td>275</td>\n",
       "      <td>Ai93(TITL-GCaMP6f)</td>\n",
       "      <td>Nr5a1-Cre;Camk2a-tTA;Ai93-261969</td>\n",
       "      <td>[]</td>\n",
       "      <td>VISal</td>\n",
       "      <td>[[0.0, 0.741935932081, 0.599953696213, 0.80095...</td>\n",
       "      <td>[[0.0, 0.741935932081, 0.599953696213, 0.80095...</td>\n",
       "      <td>0</td>\n",
       "      <td>[[0.0, 7.53542946705, 3.31196403877, 9.4400437...</td>\n",
       "    </tr>\n",
       "    <tr>\n",
       "      <th>2</th>\n",
       "      <td>Scnn1a-Tg3-Cre</td>\n",
       "      <td>230570</td>\n",
       "      <td>False</td>\n",
       "      <td>511510911</td>\n",
       "      <td>350</td>\n",
       "      <td>Ai93(TITL-GCaMP6f)</td>\n",
       "      <td>Scnn1a-Tg3-Cre;Camk2a-tTA;Ai93-230570</td>\n",
       "      <td>[]</td>\n",
       "      <td>VISp</td>\n",
       "      <td>[[0.0, 9.96030325168, 10.2589451811, 8.3752674...</td>\n",
       "      <td>[[0.0, 9.96030325168, 10.2589451811, 8.3752674...</td>\n",
       "      <td>0</td>\n",
       "      <td>[[0.0, 24.1404450884, 30.7306092291, 21.571387...</td>\n",
       "    </tr>\n",
       "    <tr>\n",
       "      <th>3</th>\n",
       "      <td>Emx1-IRES-Cre</td>\n",
       "      <td>284669</td>\n",
       "      <td>False</td>\n",
       "      <td>569792815</td>\n",
       "      <td>350</td>\n",
       "      <td>Ai93(TITL-GCaMP6f)</td>\n",
       "      <td>Emx1-IRES-Cre;Camk2a-tTA;Ai93-284669</td>\n",
       "      <td>[]</td>\n",
       "      <td>VISam</td>\n",
       "      <td>[[0.0, 3.49558131281, 2.87681318643, 2.5342243...</td>\n",
       "      <td>[[0.0, 3.49558131281, 2.87681318643, 2.5342243...</td>\n",
       "      <td>0</td>\n",
       "      <td>[[0.0, 8.53032612269, 9.03611995897, 6.9925695...</td>\n",
       "    </tr>\n",
       "    <tr>\n",
       "      <th>4</th>\n",
       "      <td>Rbp4-Cre_KL100</td>\n",
       "      <td>234584</td>\n",
       "      <td>False</td>\n",
       "      <td>511511015</td>\n",
       "      <td>350</td>\n",
       "      <td>Ai93(TITL-GCaMP6f)</td>\n",
       "      <td>Rbp4-Cre;Camk2a-tTA;Ai93-234584</td>\n",
       "      <td>[]</td>\n",
       "      <td>VISpm</td>\n",
       "      <td>[[0.0, 3.58087458183, 2.79741660163, 3.4468557...</td>\n",
       "      <td>[[0.0, 3.58087458183, 2.79741660163, 3.4468557...</td>\n",
       "      <td>0</td>\n",
       "      <td>[[0.0, 26.8089158925, 21.1489539612, 25.902355...</td>\n",
       "    </tr>\n",
       "  </tbody>\n",
       "</table>\n",
       "</div>"
      ],
      "text/plain": [
       "         cre_line donor_name failed         id  imaging_depth  \\\n",
       "0    Cux2-CreERT2     283284  False  566759225            275   \n",
       "1       Nr5a1-Cre     261969  False  546328009            275   \n",
       "2  Scnn1a-Tg3-Cre     230570  False  511510911            350   \n",
       "3   Emx1-IRES-Cre     284669  False  569792815            350   \n",
       "4  Rbp4-Cre_KL100     234584  False  511511015            350   \n",
       "\n",
       "        reporter_line                          specimen_name tags  \\\n",
       "0  Ai93(TITL-GCaMP6f)    Cux2-CreERT2;Camk2a-tTA;Ai93-283284   []   \n",
       "1  Ai93(TITL-GCaMP6f)       Nr5a1-Cre;Camk2a-tTA;Ai93-261969   []   \n",
       "2  Ai93(TITL-GCaMP6f)  Scnn1a-Tg3-Cre;Camk2a-tTA;Ai93-230570   []   \n",
       "3  Ai93(TITL-GCaMP6f)   Emx1-IRES-Cre;Camk2a-tTA;Ai93-284669   []   \n",
       "4  Ai93(TITL-GCaMP6f)        Rbp4-Cre;Camk2a-tTA;Ai93-234584   []   \n",
       "\n",
       "  targeted_structure                               rsa_mean_mean_mahala  \\\n",
       "0              VISam  [[0.0, 15.0717277058, 11.2159497239, 12.801501...   \n",
       "1              VISal  [[0.0, 0.741935932081, 0.599953696213, 0.80095...   \n",
       "2               VISp  [[0.0, 9.96030325168, 10.2589451811, 8.3752674...   \n",
       "3              VISam  [[0.0, 3.49558131281, 2.87681318643, 2.5342243...   \n",
       "4              VISpm  [[0.0, 3.58087458183, 2.79741660163, 3.4468557...   \n",
       "\n",
       "                              rsa_random_mean_mahala  \\\n",
       "0  [[0.0, 15.0717277058, 11.2159497239, 12.801501...   \n",
       "1  [[0.0, 0.741935932081, 0.599953696213, 0.80095...   \n",
       "2  [[0.0, 9.96030325168, 10.2589451811, 8.3752674...   \n",
       "3  [[0.0, 3.49558131281, 2.87681318643, 2.5342243...   \n",
       "4  [[0.0, 3.58087458183, 2.79741660163, 3.4468557...   \n",
       "\n",
       "  rsa_mean_mean_spectral_embedding  \\\n",
       "0                                0   \n",
       "1                                0   \n",
       "2                                0   \n",
       "3                                0   \n",
       "4                                0   \n",
       "\n",
       "                                   rsa_mean_mean_PCA  \n",
       "0  [[0.0, 23.0786825252, 21.2174191481, 22.739709...  \n",
       "1  [[0.0, 7.53542946705, 3.31196403877, 9.4400437...  \n",
       "2  [[0.0, 24.1404450884, 30.7306092291, 21.571387...  \n",
       "3  [[0.0, 8.53032612269, 9.03611995897, 6.9925695...  \n",
       "4  [[0.0, 26.8089158925, 21.1489539612, 25.902355...  "
      ]
     },
     "execution_count": 664,
     "metadata": {},
     "output_type": "execute_result"
    }
   ],
   "source": []
  },
  {
   "cell_type": "code",
   "execution_count": 573,
   "metadata": {
    "collapsed": true
   },
   "outputs": [],
   "source": [
    "cre_line='Cux2-CreERT2'\n",
    "imaging_depth=175\n",
    "targeted_structur='VISp'"
   ]
  },
  {
   "cell_type": "code",
   "execution_count": 574,
   "metadata": {
    "collapsed": true
   },
   "outputs": [],
   "source": [
    "rsms=exps.groupby(['cre_line','imaging_depth','targeted_structure']).get_group((cre_line,imaging_depth,targeted_structure)).rsa_mean_mean_mahala"
   ]
  },
  {
   "cell_type": "code",
   "execution_count": 575,
   "metadata": {},
   "outputs": [
    {
     "data": {
      "text/plain": [
       "<matplotlib.text.Text at 0x7f17541a8350>"
      ]
     },
     "execution_count": 575,
     "metadata": {},
     "output_type": "execute_result"
    },
    {
     "data": {
      "image/png": "[encoded data removed]",
      "text/plain": [
       "<matplotlib.figure.Figure at 0x7f1753cb7590>"
      ]
     },
     "metadata": {},
     "output_type": "display_data"
    }
   ],
   "source": [
    "kt_matrix=np.zeros((len(rsms),len(rsms)))\n",
    "\n",
    "for i,rsm1 in enumerate(rsms):\n",
    "    for j,rsm2 in enumerate(rsms): \n",
    "        kt_matrix[i,j]=get_kt(rsm1,rsm2)\n",
    "np.fill_diagonal(kt_matrix,0)\n",
    "kt_df=pd.DataFrame(data=kt_matrix)\n",
    "fig=plt.figure()\n",
    "fig.add_subplot(111)\n",
    "sns.heatmap(kt_df,vmin=0)\n",
    "plt.title(cre_line+' '+str(imaging_depth))"
   ]
  },
  {
   "cell_type": "code",
   "execution_count": 576,
   "metadata": {
    "collapsed": true
   },
   "outputs": [],
   "source": [
    "def get_experiments_grouped(exps,targeted_structures,cre_lines,imaging_depths,donor_name=None,rsm_selection='mean'):\n",
    "    ''' Gets Kendall tau measurement for all matrices for a certain list of\n",
    "    visual areas, cre lines, and imaging depths\n",
    "    If multiple RSAs exist for one mouse, average them together\n",
    "    If multiple RSAs for one targeted structure, cre line, or imaging depth \n",
    "    \n",
    "    For now, takes a list of ei'''\n",
    "    #if type(imaging_depths)!='list':\n",
    "    #    imaging_depths=[imaging_depths]\n",
    "    #if type(cre_lines)!='list':\n",
    "    #    cre_lines=[cre_lines]\n",
    "    \n",
    "    exps_grouped=pd.DataFrame(columns=['cre_line','imaging_depth','targeted_structure','rsm'])\n",
    "    for cre_line in cre_lines:\n",
    "        imaging_depths=exps[exps.cre_line==cre_line].imaging_depth.unique()\n",
    "        for imaging_depth in imaging_depths:\n",
    "            for targeted_structure in targeted_structures:\n",
    "                available_targeted_structures=exps[(exps.cre_line==cre_line) & (exps.imaging_depth==imaging_depth)].targeted_structure.unique()\n",
    "                if targeted_structure in available_targeted_structures:\n",
    "                    if rsm_selection=='mean':\n",
    "                        rsm=exps.groupby(['cre_line','imaging_depth','targeted_structure']).get_group((cre_line,imaging_depth,targeted_structure)).rsa_mean_mean_mahala.mean()\n",
    "                        rsm[-119:,-119:]\n",
    "                    elif rsm_selection=='random':\n",
    "                        rsm=exps.groupby(['cre_line','imaging_depth','targeted_structure']).get_group((cre_line,imaging_depth,targeted_structure)).rsa_mean_mean_mahala.iloc[np.random.randint(0,high=exps.groupby(['cre_line','imaging_depth','targeted_structure']).get_group((cre_line,imaging_depth,targeted_structure)).shape[0])]\n",
    "                        rsm[-119:,-119:]\n",
    "                    to_add=pd.DataFrame(data=[cre_line,imaging_depth,targeted_structure,rsm],index=['cre_line','imaging_depth','targeted_structure','rsm'])                \n",
    "                    exps_grouped=exps_grouped.append(to_add.T,ignore_index=True)\n",
    "                else:\n",
    "                    continue\n",
    "    return exps_grouped\n",
    "\n",
    "def get_kt_matrix(exps_grouped,compare):\n",
    "    if compare=='targeted_structure':\n",
    "        cre_lines=exps_grouped.cre_line.unique()\n",
    "        for cre_line in cre_lines:\n",
    "            imaging_depths=exps_grouped[exps_grouped.cre_line==cre_line].imaging_depth.unique()\n",
    "            for imaging_depth in imaging_depths:\n",
    "                exps_to_compare=exps_grouped.groupby(['cre_line','imaging_depth']).get_group((cre_line,imaging_depth))\n",
    "                to_compare=exps_to_compare[compare]\n",
    "                kt_matrix=np.zeros((len(to_compare),len(to_compare)))\n",
    "\n",
    "                for i,rsm1 in enumerate(exps_to_compare.rsm):\n",
    "                    for j,rsm2 in enumerate(exps_to_compare.rsm): \n",
    "\n",
    "                        kt_matrix[i,j]=get_kt(rsm1,rsm2)\n",
    "                np.fill_diagonal(kt_matrix,0)\n",
    "                kt_df=pd.DataFrame(data=kt_matrix,columns=to_compare,index=to_compare)\n",
    "                fig=plt.figure()\n",
    "                fig.add_subplot(111)\n",
    "                if cre_line=='Cux2-CreERT2':\n",
    "                    to_return=kt_df\n",
    "                sns.heatmap(kt_df,vmin=0)\n",
    "                plt.title(cre_line+' '+str(imaging_depth))\n",
    "                \n",
    "    elif compare=='imaging_depth':\n",
    "        cre_lines=exps_grouped.cre_line.unique()\n",
    "        for cre_line in cre_lines:\n",
    "            targeted_structures=exps_grouped[exps_grouped.cre_line==cre_line].targeted_structure.unique()\n",
    "            for targeted_structure in targeted_structures:\n",
    "                exps_to_compare=exps_grouped.groupby(['cre_line','targeted_structure']).get_group((cre_line,targeted_structure))\n",
    "                to_compare=exps_to_compare[compare]\n",
    "                kt_matrix=np.zeros((len(to_compare),len(to_compare)))\n",
    "\n",
    "                for i,rsm1 in enumerate(exps_to_compare.rsm):\n",
    "                    for j,rsm2 in enumerate(exps_to_compare.rsm): \n",
    "                        kt_matrix[i,j]=get_kt(rsm1,rsm2)\n",
    "                np.fill_diagonal(kt_matrix,0)\n",
    "                kt_df=pd.DataFrame(data=kt_matrix,columns=to_compare,index=to_compare)\n",
    "                fig=plt.figure()\n",
    "                fig.add_subplot(111)\n",
    "                sns.heatmap(kt_df,vmin=0)\n",
    "                plt.title(cre_line+' '+str(targeted_structure))\n",
    "                \n",
    "    return to_return\n",
    "        \n",
    "\n",
    "    "
   ]
  },
  {
   "cell_type": "code",
   "execution_count": 665,
   "metadata": {},
   "outputs": [],
   "source": [
    "def get_experiments_grouped(exps,targeted_structures,cre_lines,imaging_depths,donor_name=None,rsm_selection='mean'):\n",
    "    ''' Gets Kendall tau measurement for all matrices for a certain list of\n",
    "    visual areas, cre lines, and imaging depths\n",
    "    If multiple RSAs exist for one mouse, average them together\n",
    "    If multiple RSAs for one targeted structure, cre line, or imaging depth \n",
    "    \n",
    "    For now, takes a list of ei'''\n",
    "    #if type(imaging_depths)!='list':\n",
    "    #    imaging_depths=[imaging_depths]\n",
    "    #if type(cre_lines)!='list':\n",
    "    #    cre_lines=[cre_lines]\n",
    "    \n",
    "    exps_grouped=pd.DataFrame(columns=['cre_line','imaging_depth','targeted_structure','rsm'])\n",
    "    for cre_line in cre_lines:\n",
    "        imaging_depths=exps[exps.cre_line==cre_line].imaging_depth.unique()\n",
    "        for imaging_depth in imaging_depths:\n",
    "            for targeted_structure in targeted_structures:\n",
    "                available_targeted_structures=exps[(exps.cre_line==cre_line) & (exps.imaging_depth==imaging_depth)].targeted_structure.unique()\n",
    "                if targeted_structure in available_targeted_structures:\n",
    "                    if rsm_selection=='mean':\n",
    "                        rsm=exps.groupby(['cre_line','imaging_depth','targeted_structure']).get_group((cre_line,imaging_depth,targeted_structure)).rsa_mean_mean_mahala.mean()\n",
    "                        rsm[-119:,-119:]\n",
    "                        to_add=pd.DataFrame(data=[cre_line,imaging_depth,targeted_structure,rsm],index=['cre_line','imaging_depth','targeted_structure','rsm'])\n",
    "                    elif rsm_selection=='random':\n",
    "                        rsm=exps.groupby(['cre_line','imaging_depth','targeted_structure']).get_group((cre_line,imaging_depth,targeted_structure)).rsa_mean_mean_mahala.iloc[np.random.randint(0,high=exps.groupby(['cre_line','imaging_depth','targeted_structure']).get_group((cre_line,imaging_depth,targeted_structure)).shape[0])]\n",
    "                        rsm[-119:,-119:]\n",
    "                        to_add=pd.DataFrame(data=[cre_line,imaging_depth,targeted_structure,rsm],index=['cre_line','imaging_depth','targeted_structure','rsm'])\n",
    "                    elif rsm_selection=='all':\n",
    "                        rsm=exps.groupby(['cre_line','imaging_depth','targeted_structure']).get_group((cre_line,imaging_depth,targeted_structure)).rsa_mean_mean_mahala\n",
    "                        to_add=pd.DataFrame(data=[cre_line,imaging_depth,targeted_structure,rsm.iloc[0]],index=['cre_line','imaging_depth','targeted_structure','rsm'])                \n",
    "                        for n in range(1,rsm.shape[0]):\n",
    "                            to_add[str(n)]=pd.Series([cre_line,imaging_depth,targeted_structure,rsm.iloc[n]],index=['cre_line','imaging_depth','targeted_structure','rsm'])\n",
    "                    exps_grouped=exps_grouped.append(to_add.T,ignore_index=True)\n",
    "                    \n",
    "                else:\n",
    "                    continue\n",
    "    return exps_grouped\n",
    "\n",
    "def get_kt_matrix(exps_grouped,compare):\n",
    "    if compare=='targeted_structure':\n",
    "        cre_lines=exps_grouped.cre_line.unique()\n",
    "        for cre_line in cre_lines:\n",
    "            imaging_depths=exps_grouped[exps_grouped.cre_line==cre_line].imaging_depth.unique()\n",
    "            for imaging_depth in imaging_depths:\n",
    "                exps_to_compare=exps_grouped.groupby(['cre_line','imaging_depth']).get_group((cre_line,imaging_depth))\n",
    "                to_compare=exps_to_compare[compare]\n",
    "                kt_matrix=np.zeros((len(to_compare),len(to_compare)))\n",
    "\n",
    "                for i,rsm1 in enumerate(exps_to_compare.rsm):\n",
    "                    for j,rsm2 in enumerate(exps_to_compare.rsm): \n",
    "\n",
    "                        kt_matrix[i,j]=get_kt(rsm1,rsm2)\n",
    "                np.fill_diagonal(kt_matrix,0)\n",
    "                kt_df=pd.DataFrame(data=kt_matrix,columns=to_compare,index=to_compare)\n",
    "                fig=plt.figure()\n",
    "                fig.add_subplot(111)\n",
    "                if cre_line=='Cux2-CreERT2':\n",
    "                    to_return=kt_df\n",
    "                sns.heatmap(kt_df,vmin=0)\n",
    "                plt.title(cre_line+' '+str(imaging_depth))\n",
    "                \n",
    "    elif compare=='imaging_depth':\n",
    "        cre_lines=exps_grouped.cre_line.unique()\n",
    "        for cre_line in cre_lines:\n",
    "            targeted_structures=exps_grouped[exps_grouped.cre_line==cre_line].targeted_structure.unique()\n",
    "            for targeted_structure in targeted_structures:\n",
    "                exps_to_compare=exps_grouped.groupby(['cre_line','targeted_structure']).get_group((cre_line,targeted_structure))\n",
    "                to_compare=exps_to_compare[compare]\n",
    "                kt_matrix=np.zeros((len(to_compare),len(to_compare)))\n",
    "\n",
    "                for i,rsm1 in enumerate(exps_to_compare.rsm):\n",
    "                    for j,rsm2 in enumerate(exps_to_compare.rsm): \n",
    "                        kt_matrix[i,j]=get_kt(rsm1,rsm2)\n",
    "                np.fill_diagonal(kt_matrix,0)\n",
    "                kt_df=pd.DataFrame(data=kt_matrix,columns=to_compare,index=to_compare)\n",
    "                fig=plt.figure()\n",
    "                fig.add_subplot(111)\n",
    "                sns.heatmap(kt_df,vmin=0,vmax=0.5)\n",
    "                plt.title(cre_line+' '+str(targeted_structure))\n",
    "                \n",
    "    return to_return\n",
    "        \n",
    "\n",
    "    "
   ]
  },
  {
   "cell_type": "code",
   "execution_count": 666,
   "metadata": {
    "collapsed": true
   },
   "outputs": [],
   "source": [
    "# within area RSM comparisons "
   ]
  },
  {
   "cell_type": "code",
   "execution_count": 667,
   "metadata": {},
   "outputs": [
    {
     "data": {
      "text/plain": [
       "[u'Cux2-CreERT2',\n",
       " u'Emx1-IRES-Cre',\n",
       " u'Nr5a1-Cre',\n",
       " u'Rbp4-Cre_KL100',\n",
       " u'Rorb-IRES2-Cre']"
      ]
     },
     "execution_count": 667,
     "metadata": {},
     "output_type": "execute_result"
    }
   ],
   "source": [
    "cre_lines=[u'Cux2-CreERT2',\n",
    " u'Emx1-IRES-Cre',\n",
    " u'Nr5a1-Cre',\n",
    " u'Rbp4-Cre_KL100',\n",
    " u'Rorb-IRES2-Cre']\n",
    "imaging_depths=boc.get_all_cre_lines()\n",
    "targeted_structures=boc.get_all_targeted_structures()\n",
    "cre_lines"
   ]
  },
  {
   "cell_type": "code",
   "execution_count": 668,
   "metadata": {
    "collapsed": true
   },
   "outputs": [],
   "source": [
    "# to do: \n",
    "# 1) organize areas the way saskia wants them\n",
    "# 2) make bunch of plots based on different cre-lines and layer distinctions \n",
    "# 3) make ari's plot and make plots that have all of the kt values within all of the RSMs in a specific experiment. "
   ]
  },
  {
   "cell_type": "code",
   "execution_count": 669,
   "metadata": {
    "scrolled": true
   },
   "outputs": [],
   "source": [
    "cre_line='Cux2-CreERT2'\n",
    "imaging_depth=175\n",
    "targeted_structure='VISp'\n",
    "rsm=exps_grouped.rsm.iloc[0]\n",
    "to_add=pd.DataFrame(data=[cre_line,imaging_depth,targeted_structure,rsm],index=['cre_line','imaging_depth','targeted_structure','rsm'])"
   ]
  },
  {
   "cell_type": "code",
   "execution_count": 670,
   "metadata": {
    "scrolled": false
   },
   "outputs": [
    {
     "data": {
      "image/png": "[encoded data removed]",
      "text/plain": [
       "<matplotlib.figure.Figure at 0x7f1749f89c10>"
      ]
     },
     "metadata": {},
     "output_type": "display_data"
    },
    {
     "data": {
      "image/png": "[encoded data removed]",
      "text/plain": [
       "<matplotlib.figure.Figure at 0x7f1753e33e10>"
      ]
     },
     "metadata": {},
     "output_type": "display_data"
    },
    {
     "data": {
      "image/png": "[encoded data removed]",
      "text/plain": [
       "<matplotlib.figure.Figure at 0x7f174b906a90>"
      ]
     },
     "metadata": {},
     "output_type": "display_data"
    },
    {
     "data": {
      "image/png": "[encoded data removed]",
      "text/plain": [
       "<matplotlib.figure.Figure at 0x7f17546aee10>"
      ]
     },
     "metadata": {},
     "output_type": "display_data"
    },
    {
     "data": {
      "image/png": "[encoded data removed]",
      "text/plain": [
       "<matplotlib.figure.Figure at 0x7f174b173210>"
      ]
     },
     "metadata": {},
     "output_type": "display_data"
    },
    {
     "data": {
      "image/png": "[encoded data removed]",
      "text/plain": [
       "<matplotlib.figure.Figure at 0x7f174bf4b610>"
      ]
     },
     "metadata": {},
     "output_type": "display_data"
    },
    {
     "data": {
      "image/png": "[encoded data removed]",
      "text/plain": [
       "<matplotlib.figure.Figure at 0x7f174cf842d0>"
      ]
     },
     "metadata": {},
     "output_type": "display_data"
    },
    {
     "data": {
      "image/png": "[encoded data removed]",
      "text/plain": [
       "<matplotlib.figure.Figure at 0x7f174a9e3310>"
      ]
     },
     "metadata": {},
     "output_type": "display_data"
    }
   ],
   "source": [
    "exps_grouped=get_experiments_grouped(exps,targeted_structures,cre_lines,imaging_depths,rsm_selection='all')\n",
    "kt_df=get_kt_matrix(exps_grouped,'targeted_structure')\n"
   ]
  },
  {
   "cell_type": "code",
   "execution_count": 647,
   "metadata": {},
   "outputs": [
    {
     "data": {
      "text/html": [
       "<div>\n",
       "<table border=\"1\" class=\"dataframe\">\n",
       "  <thead>\n",
       "    <tr style=\"text-align: right;\">\n",
       "      <th></th>\n",
       "      <th>cre_line</th>\n",
       "      <th>imaging_depth</th>\n",
       "      <th>targeted_structure</th>\n",
       "      <th>rsm</th>\n",
       "    </tr>\n",
       "  </thead>\n",
       "  <tbody>\n",
       "    <tr>\n",
       "      <th>0</th>\n",
       "      <td>Cux2-CreERT2</td>\n",
       "      <td>275</td>\n",
       "      <td>VISal</td>\n",
       "      <td>[[0.0, 14.0271879134, 17.7364615024, 17.471313...</td>\n",
       "    </tr>\n",
       "    <tr>\n",
       "      <th>1</th>\n",
       "      <td>Cux2-CreERT2</td>\n",
       "      <td>275</td>\n",
       "      <td>VISam</td>\n",
       "      <td>[[0.0, 15.0717277058, 11.2159497239, 12.801501...</td>\n",
       "    </tr>\n",
       "    <tr>\n",
       "      <th>2</th>\n",
       "      <td>Cux2-CreERT2</td>\n",
       "      <td>275</td>\n",
       "      <td>VISl</td>\n",
       "      <td>[[0.0, 7.33733629106, 8.34693519582, 10.782357...</td>\n",
       "    </tr>\n",
       "    <tr>\n",
       "      <th>3</th>\n",
       "      <td>Cux2-CreERT2</td>\n",
       "      <td>275</td>\n",
       "      <td>VISp</td>\n",
       "      <td>[[0.0, 39.6524266268, 25.6649943095, 24.049487...</td>\n",
       "    </tr>\n",
       "    <tr>\n",
       "      <th>4</th>\n",
       "      <td>Cux2-CreERT2</td>\n",
       "      <td>275</td>\n",
       "      <td>VISpm</td>\n",
       "      <td>[[0.0, 19.7419737586, 18.8471920454, 19.023857...</td>\n",
       "    </tr>\n",
       "  </tbody>\n",
       "</table>\n",
       "</div>"
      ],
      "text/plain": [
       "       cre_line imaging_depth targeted_structure  \\\n",
       "0  Cux2-CreERT2           275              VISal   \n",
       "1  Cux2-CreERT2           275              VISam   \n",
       "2  Cux2-CreERT2           275               VISl   \n",
       "3  Cux2-CreERT2           275               VISp   \n",
       "4  Cux2-CreERT2           275              VISpm   \n",
       "\n",
       "                                                 rsm  \n",
       "0  [[0.0, 14.0271879134, 17.7364615024, 17.471313...  \n",
       "1  [[0.0, 15.0717277058, 11.2159497239, 12.801501...  \n",
       "2  [[0.0, 7.33733629106, 8.34693519582, 10.782357...  \n",
       "3  [[0.0, 39.6524266268, 25.6649943095, 24.049487...  \n",
       "4  [[0.0, 19.7419737586, 18.8471920454, 19.023857...  "
      ]
     },
     "execution_count": 647,
     "metadata": {},
     "output_type": "execute_result"
    }
   ],
   "source": [
    "exps_grouped.head()"
   ]
  },
  {
   "cell_type": "code",
   "execution_count": null,
   "metadata": {
    "collapsed": true
   },
   "outputs": [],
   "source": []
  },
  {
   "cell_type": "code",
   "execution_count": 236,
   "metadata": {},
   "outputs": [
    {
     "data": {
      "text/plain": [
       "array([u'VISal', u'VISam', u'VISl', u'VISp', u'VISpm', u'VISrl'], dtype=object)"
      ]
     },
     "execution_count": 236,
     "metadata": {},
     "output_type": "execute_result"
    }
   ],
   "source": [
    "exps_grouped['targeted_structure'].unique()"
   ]
  },
  {
   "cell_type": "code",
   "execution_count": 290,
   "metadata": {},
   "outputs": [
    {
     "data": {
      "text/plain": [
       "array([u'VISam', u'VISpm', u'VISp', u'VISl', u'VISal', u'VISrl'], dtype=object)"
      ]
     },
     "execution_count": 290,
     "metadata": {},
     "output_type": "execute_result"
    }
   ],
   "source": [
    "available_targeted_structures=exps[(exps.cre_line==cre_line) & (exps.imaging_depth==imaging_depth)].targeted_structure.unique()\n",
    "available_targeted_structures"
   ]
  },
  {
   "cell_type": "code",
   "execution_count": 231,
   "metadata": {},
   "outputs": [
    {
     "data": {
      "text/plain": [
       "<matplotlib.text.Text at 0x7f1755065050>"
      ]
     },
     "execution_count": 231,
     "metadata": {},
     "output_type": "execute_result"
    },
    {
     "data": {
      "image/png": "[encoded data removed]",
      "text/plain": [
       "<matplotlib.figure.Figure at 0x7f17554e3d10>"
      ]
     },
     "metadata": {},
     "output_type": "display_data"
    }
   ],
   "source": [
    "for cre_line in cre_lines\n",
    "sns.heatmap(kt_df)\n",
    "plt.title(cre_lines+imaging_depths)"
   ]
  },
  {
   "cell_type": "code",
   "execution_count": 164,
   "metadata": {},
   "outputs": [
    {
     "data": {
      "text/plain": [
       "<matplotlib.axes._subplots.AxesSubplot at 0x7f175bfe85d0>"
      ]
     },
     "execution_count": 164,
     "metadata": {},
     "output_type": "execute_result"
    },
    {
     "data": {
      "image/png": "[encoded data removed]",
      "text/plain": [
       "<matplotlib.figure.Figure at 0x7f1755b28c90>"
      ]
     },
     "metadata": {},
     "output_type": "display_data"
    }
   ],
   "source": [
    "np.fill_diagonal(kt_matrix,0)\n",
    "sns.heatmap(kt_matrix)"
   ]
  },
  {
   "cell_type": "code",
   "execution_count": 100,
   "metadata": {
    "collapsed": true
   },
   "outputs": [],
   "source": [
    "rsm=exps.groupby(['cre_line','imaging_depth','targeted_structure']).get_group((cre_line,imaging_depth,targeted_structure)).rsm.mean()"
   ]
  },
  {
   "cell_type": "code",
   "execution_count": 101,
   "metadata": {
    "collapsed": true
   },
   "outputs": [],
   "source": [
    "to_add=pd.DataFrame(data=[cre_line,imaging_depth,targeted_structure,rsm],index=['cre_line','imaging_depth','targeted_structure','rsm'])"
   ]
  },
  {
   "cell_type": "code",
   "execution_count": 102,
   "metadata": {
    "collapsed": true
   },
   "outputs": [],
   "source": [
    "exps_grouped=exps_grouped.append(to_add.T)"
   ]
  },
  {
   "cell_type": "code",
   "execution_count": 124,
   "metadata": {},
   "outputs": [
    {
     "data": {
      "text/html": [
       "<div>\n",
       "<table border=\"1\" class=\"dataframe\">\n",
       "  <thead>\n",
       "    <tr style=\"text-align: right;\">\n",
       "      <th></th>\n",
       "      <th>cre_line</th>\n",
       "      <th>imaging_depth</th>\n",
       "      <th>targeted_structure</th>\n",
       "      <th>rsm</th>\n",
       "    </tr>\n",
       "  </thead>\n",
       "  <tbody>\n",
       "    <tr>\n",
       "      <th>0</th>\n",
       "      <td>Cux2-CreERT2</td>\n",
       "      <td>175</td>\n",
       "      <td>VISal</td>\n",
       "      <td>[[0.0, 0.104234177417, 0.0449146271004, -0.025...</td>\n",
       "    </tr>\n",
       "    <tr>\n",
       "      <th>1</th>\n",
       "      <td>Cux2-CreERT2</td>\n",
       "      <td>175</td>\n",
       "      <td>VISam</td>\n",
       "      <td>[[1.0, 0.0204059826005, -0.098488108621, 0.040...</td>\n",
       "    </tr>\n",
       "    <tr>\n",
       "      <th>2</th>\n",
       "      <td>Cux2-CreERT2</td>\n",
       "      <td>175</td>\n",
       "      <td>VISl</td>\n",
       "      <td>[[1.0, 0.0665626597067, 0.0369762631685, -0.10...</td>\n",
       "    </tr>\n",
       "    <tr>\n",
       "      <th>3</th>\n",
       "      <td>Cux2-CreERT2</td>\n",
       "      <td>175</td>\n",
       "      <td>VISp</td>\n",
       "      <td>[[1.0, 0.141161004643, 0.0464758065598, 0.0046...</td>\n",
       "    </tr>\n",
       "    <tr>\n",
       "      <th>4</th>\n",
       "      <td>Cux2-CreERT2</td>\n",
       "      <td>175</td>\n",
       "      <td>VISpm</td>\n",
       "      <td>[[1.0, 0.0878812707308, -0.125047709397, -0.16...</td>\n",
       "    </tr>\n",
       "  </tbody>\n",
       "</table>\n",
       "</div>"
      ],
      "text/plain": [
       "       cre_line imaging_depth targeted_structure  \\\n",
       "0  Cux2-CreERT2           175              VISal   \n",
       "1  Cux2-CreERT2           175              VISam   \n",
       "2  Cux2-CreERT2           175               VISl   \n",
       "3  Cux2-CreERT2           175               VISp   \n",
       "4  Cux2-CreERT2           175              VISpm   \n",
       "\n",
       "                                                 rsm  \n",
       "0  [[0.0, 0.104234177417, 0.0449146271004, -0.025...  \n",
       "1  [[1.0, 0.0204059826005, -0.098488108621, 0.040...  \n",
       "2  [[1.0, 0.0665626597067, 0.0369762631685, -0.10...  \n",
       "3  [[1.0, 0.141161004643, 0.0464758065598, 0.0046...  \n",
       "4  [[1.0, 0.0878812707308, -0.125047709397, -0.16...  "
      ]
     },
     "execution_count": 124,
     "metadata": {},
     "output_type": "execute_result"
    }
   ],
   "source": [
    "exps_grouped.head()"
   ]
  },
  {
   "cell_type": "code",
   "execution_count": null,
   "metadata": {
    "collapsed": true
   },
   "outputs": [],
   "source": []
  }
 ],
 "metadata": {
  "kernelspec": {
   "display_name": "Python 2",
   "language": "python",
   "name": "python2"
  },
  "language_info": {
   "codemirror_mode": {
    "name": "ipython",
    "version": 2
   },
   "file_extension": ".py",
   "mimetype": "text/x-python",
   "name": "python",
   "nbconvert_exporter": "python",
   "pygments_lexer": "ipython2",
   "version": "2.7.13"
  }
 },
 "nbformat": 4,
 "nbformat_minor": 2
}
