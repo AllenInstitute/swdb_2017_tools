{
 "cells": [
  {
   "cell_type": "markdown",
   "metadata": {},
   "source": [
    "# Define Ensembles (find periods of high activity)\n"
   ]
  },
  {
   "cell_type": "markdown",
   "metadata": {},
   "source": [
    "# Initialize drives and imports"
   ]
  },
  {
   "cell_type": "code",
   "execution_count": 2,
   "metadata": {
    "collapsed": true
   },
   "outputs": [],
   "source": [
    "# AWS\n",
    "drive_path = '/data/dynamic-brain-workshop/brain_observatory_cache/'"
   ]
  },
  {
   "cell_type": "code",
   "execution_count": 3,
   "metadata": {
    "collapsed": true
   },
   "outputs": [],
   "source": [
    "# We need to import these modules to get started\n",
    "import numpy as np\n",
    "import pandas as pd\n",
    "import os\n",
    "import sys\n",
    "from define_ensembles import *\n",
    "\n",
    "import matplotlib.pyplot as plt\n",
    "%matplotlib inline"
   ]
  },
  {
   "cell_type": "markdown",
   "metadata": {},
   "source": [
    "# Get data"
   ]
  },
  {
   "cell_type": "code",
   "execution_count": 9,
   "metadata": {},
   "outputs": [],
   "source": [
    "#df = pd.read_csv('spike_times.csv', sep=',', header=None, error_bad_lines=False)\n",
    "#spktms = df.values\n",
    "info = pickle.load( open( \"546341286_experiment_data.p\") )"
   ]
  },
  {
   "cell_type": "code",
   "execution_count": null,
   "metadata": {
    "collapsed": true
   },
   "outputs": [],
   "source": [
    "def get_ensemble_info(info,recording_type_str):\n",
    "\n",
    "    i = 0\n",
    "    maxspks = 0\n",
    "    cellID = np.empty(len(info[recording_type_str]['spike_times'].keys()))\n",
    "    time = info[recording_type_str]['timestamps']\n",
    "    \n",
    "    for key, value in info[recording_type_str]['spike_times'].iteritems():\n",
    "        maxspks = np.maximum(maxspks,len(value))\n",
    "\n",
    "    spktms=np.empty([cellID.shape[0],maxspks])\n",
    "    spktms[:] = np.nan\n",
    "    \n",
    "    for key, value in info[recording_type_str]['spike_times'].iteritems():\n",
    "        cellID[i] = key\n",
    "        spktms[i,:len(value)] = value\n",
    "        i += 1\n",
    "    \n",
    "    return time, spktms, cellID"
   ]
  },
  {
   "cell_type": "code",
   "execution_count": null,
   "metadata": {
    "collapsed": true
   },
   "outputs": [],
   "source": [
    "time, spktms, cellID = get_ensemble_info(info, 'natural_movie_two')\n",
    "T = np.array([time[0],time[-1]])"
   ]
  },
  {
   "cell_type": "markdown",
   "metadata": {},
   "source": [
    "## Find ensembles"
   ]
  },
  {
   "cell_type": "code",
   "execution_count": 5,
   "metadata": {},
   "outputs": [
    {
     "name": "stdout",
     "output_type": "stream",
     "text": [
      "last event in shuffled train occurs too late\n",
      "last event in shuffled train occurs too late\n",
      "last event in shuffled train occurs too late\n",
      "last event in shuffled train occurs too late\n",
      "last event in shuffled train occurs too late\n",
      "last event in shuffled train occurs too late\n",
      "last event in shuffled train occurs too late\n",
      "last event in shuffled train occurs too late\n"
     ]
    }
   ],
   "source": [
    "time, ensembles, spktms_binned = find_high_activity(spktms, T, dt=0.005, binsize=0.5, nsurr=1000, pval=0.05)  #using defaults here.  Adjust inputs for your desired data set. "
   ]
  },
  {
   "cell_type": "code",
   "execution_count": 8,
   "metadata": {},
   "outputs": [
    {
     "name": "stdout",
     "output_type": "stream",
     "text": [
      "2990\n"
     ]
    }
   ],
   "source": [
    "# number of ensembles\n",
    "num_ensembles = len(ensembles[ensembles==1])\n",
    "print num_ensembles\n",
    "\n",
    "# percentage of ensembles\n",
    "perc_ensembles = num_ensembles./ensembles.shape[0]\n",
    "print perc_ensembles"
   ]
  },
  {
   "cell_type": "markdown",
   "metadata": {},
   "source": [
    "# I'm going to add the cellIDs for each ensemble, the ensemble time points (easier to work with potentially), and some plots. "
   ]
  },
  {
   "cell_type": "code",
   "execution_count": null,
   "metadata": {
    "collapsed": true
   },
   "outputs": [],
   "source": []
  }
 ],
 "metadata": {
  "kernelspec": {
   "display_name": "Python 2",
   "language": "python",
   "name": "python2"
  },
  "language_info": {
   "codemirror_mode": {
    "name": "ipython",
    "version": 2
   },
   "file_extension": ".py",
   "mimetype": "text/x-python",
   "name": "python",
   "nbconvert_exporter": "python",
   "pygments_lexer": "ipython2",
   "version": "2.7.13"
  }
 },
 "nbformat": 4,
 "nbformat_minor": 2
}
