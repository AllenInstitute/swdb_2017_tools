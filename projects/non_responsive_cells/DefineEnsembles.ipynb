{
 "cells": [
  {
   "cell_type": "markdown",
   "metadata": {},
   "source": [
    "# Define Ensembles (find periods of high activity)\n"
   ]
  },
  {
   "cell_type": "markdown",
   "metadata": {},
   "source": [
    "# Initialize drives and imports"
   ]
  },
  {
   "cell_type": "code",
   "execution_count": 2,
   "metadata": {
    "collapsed": true
   },
   "outputs": [],
   "source": [
    "# AWS\n",
    "drive_path = '/data/dynamic-brain-workshop/brain_observatory_cache/'"
   ]
  },
  {
   "cell_type": "code",
   "execution_count": 3,
   "metadata": {
    "collapsed": true
   },
   "outputs": [],
   "source": [
    "# We need to import these modules to get started\n",
    "import numpy as np\n",
    "import pandas as pd\n",
    "import os\n",
    "import sys\n",
    "from define_ensembles import *\n",
    "\n",
    "import matplotlib.pyplot as plt\n",
    "%matplotlib inline"
   ]
  },
  {
   "cell_type": "markdown",
   "metadata": {},
   "source": [
    "# Get data"
   ]
  },
  {
   "cell_type": "code",
   "execution_count": 4,
   "metadata": {},
   "outputs": [
    {
     "name": "stderr",
     "output_type": "stream",
     "text": [
      "Skipping line 2: expected 758 fields, saw 1109\n",
      "Skipping line 3: expected 758 fields, saw 1181\n",
      "Skipping line 4: expected 758 fields, saw 1404\n",
      "Skipping line 6: expected 758 fields, saw 1385\n",
      "Skipping line 10: expected 758 fields, saw 898\n",
      "Skipping line 11: expected 758 fields, saw 1402\n",
      "Skipping line 12: expected 758 fields, saw 1109\n",
      "Skipping line 15: expected 758 fields, saw 849\n",
      "Skipping line 17: expected 758 fields, saw 1355\n",
      "Skipping line 18: expected 758 fields, saw 1239\n",
      "Skipping line 19: expected 758 fields, saw 2467\n",
      "Skipping line 20: expected 758 fields, saw 772\n",
      "Skipping line 21: expected 758 fields, saw 1032\n",
      "Skipping line 22: expected 758 fields, saw 1118\n",
      "Skipping line 23: expected 758 fields, saw 1287\n",
      "Skipping line 24: expected 758 fields, saw 831\n",
      "Skipping line 25: expected 758 fields, saw 1037\n",
      "Skipping line 26: expected 758 fields, saw 1018\n",
      "Skipping line 27: expected 758 fields, saw 1313\n",
      "Skipping line 29: expected 758 fields, saw 999\n",
      "Skipping line 31: expected 758 fields, saw 1051\n",
      "Skipping line 32: expected 758 fields, saw 841\n",
      "Skipping line 33: expected 758 fields, saw 912\n",
      "Skipping line 34: expected 758 fields, saw 768\n",
      "Skipping line 35: expected 758 fields, saw 1429\n",
      "Skipping line 37: expected 758 fields, saw 1096\n",
      "Skipping line 38: expected 758 fields, saw 1027\n",
      "Skipping line 39: expected 758 fields, saw 1050\n",
      "Skipping line 41: expected 758 fields, saw 798\n",
      "Skipping line 44: expected 758 fields, saw 1477\n",
      "Skipping line 45: expected 758 fields, saw 967\n",
      "Skipping line 48: expected 758 fields, saw 799\n",
      "Skipping line 49: expected 758 fields, saw 2092\n",
      "Skipping line 51: expected 758 fields, saw 1132\n",
      "Skipping line 52: expected 758 fields, saw 1132\n",
      "Skipping line 53: expected 758 fields, saw 1667\n",
      "Skipping line 57: expected 758 fields, saw 1134\n",
      "Skipping line 58: expected 758 fields, saw 979\n",
      "Skipping line 60: expected 758 fields, saw 923\n",
      "Skipping line 61: expected 758 fields, saw 1214\n",
      "Skipping line 62: expected 758 fields, saw 802\n",
      "Skipping line 64: expected 758 fields, saw 1446\n",
      "Skipping line 65: expected 758 fields, saw 3119\n",
      "Skipping line 66: expected 758 fields, saw 1078\n",
      "Skipping line 71: expected 758 fields, saw 878\n",
      "Skipping line 72: expected 758 fields, saw 1958\n",
      "Skipping line 73: expected 758 fields, saw 1261\n",
      "Skipping line 77: expected 758 fields, saw 1780\n",
      "Skipping line 78: expected 758 fields, saw 1392\n",
      "Skipping line 80: expected 758 fields, saw 1168\n",
      "Skipping line 83: expected 758 fields, saw 1064\n",
      "Skipping line 85: expected 758 fields, saw 945\n",
      "Skipping line 87: expected 758 fields, saw 928\n",
      "Skipping line 88: expected 758 fields, saw 914\n",
      "Skipping line 89: expected 758 fields, saw 1231\n",
      "Skipping line 90: expected 758 fields, saw 2044\n",
      "Skipping line 91: expected 758 fields, saw 842\n",
      "Skipping line 92: expected 758 fields, saw 1466\n",
      "Skipping line 93: expected 758 fields, saw 979\n",
      "Skipping line 94: expected 758 fields, saw 1754\n",
      "Skipping line 96: expected 758 fields, saw 1331\n",
      "Skipping line 98: expected 758 fields, saw 899\n",
      "Skipping line 99: expected 758 fields, saw 2125\n",
      "Skipping line 101: expected 758 fields, saw 1075\n",
      "Skipping line 104: expected 758 fields, saw 2314\n",
      "Skipping line 105: expected 758 fields, saw 760\n",
      "Skipping line 106: expected 758 fields, saw 1009\n",
      "Skipping line 108: expected 758 fields, saw 946\n",
      "\n"
     ]
    }
   ],
   "source": [
    "df = pd.read_csv('spike_times.csv', sep=',', header=None, error_bad_lines=False)\n",
    "spktms = df.values"
   ]
  },
  {
   "cell_type": "markdown",
   "metadata": {},
   "source": [
    "## Find ensembles"
   ]
  },
  {
   "cell_type": "code",
   "execution_count": 5,
   "metadata": {},
   "outputs": [
    {
     "name": "stdout",
     "output_type": "stream",
     "text": [
      "last event in shuffled train occurs too late\n",
      "last event in shuffled train occurs too late\n",
      "last event in shuffled train occurs too late\n",
      "last event in shuffled train occurs too late\n",
      "last event in shuffled train occurs too late\n",
      "last event in shuffled train occurs too late\n",
      "last event in shuffled train occurs too late\n",
      "last event in shuffled train occurs too late\n"
     ]
    }
   ],
   "source": [
    "ensembles, time = find_high_activity(spktms)     #using defaults here.  Adjust inputs for your desired data set. "
   ]
  },
  {
   "cell_type": "code",
   "execution_count": 8,
   "metadata": {},
   "outputs": [
    {
     "name": "stdout",
     "output_type": "stream",
     "text": [
      "2990\n"
     ]
    }
   ],
   "source": [
    "num_ensembles = len(ensembles[ensembles==1])\n",
    "print num_ensembles"
   ]
  },
  {
   "cell_type": "markdown",
   "metadata": {},
   "source": [
    "# I'm going to add the cellIDs for each ensemble, the ensemble time points (easier to work with potentially), and some plots. "
   ]
  },
  {
   "cell_type": "code",
   "execution_count": null,
   "metadata": {
    "collapsed": true
   },
   "outputs": [],
   "source": []
  }
 ],
 "metadata": {
  "kernelspec": {
   "display_name": "Python 2",
   "language": "python",
   "name": "python2"
  },
  "language_info": {
   "codemirror_mode": {
    "name": "ipython",
    "version": 2
   },
   "file_extension": ".py",
   "mimetype": "text/x-python",
   "name": "python",
   "nbconvert_exporter": "python",
   "pygments_lexer": "ipython2",
   "version": "2.7.13"
  }
 },
 "nbformat": 4,
 "nbformat_minor": 2
}
