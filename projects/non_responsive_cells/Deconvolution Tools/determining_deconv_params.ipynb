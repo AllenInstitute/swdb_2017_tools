{
 "cells": [
  {
   "cell_type": "code",
   "execution_count": 1,
   "metadata": {
    "collapsed": true
   },
   "outputs": [],
   "source": [
    "#Import Modules\n",
    "import os\n",
    "import deconvolution_tools as dt\n",
    "import numpy as np\n",
    "import matplotlib.pyplot as plt\n",
    "import pandas as pd\n",
    "\n",
    "%matplotlib inline\n"
   ]
  },
  {
   "cell_type": "code",
   "execution_count": 2,
   "metadata": {
    "collapsed": true
   },
   "outputs": [],
   "source": [
    "drive_path = '/Volumes/Brain2017/data/dynamic-brain-workshop/brain_observatory_cache/'\n",
    "\n",
    "from allensdk.core.brain_observatory_cache import BrainObservatoryCache\n",
    "manifest_file = os.path.join(drive_path,'brain_observatory_manifest.json')\n",
    "boc = BrainObservatoryCache(manifest_file=manifest_file)"
   ]
  },
  {
   "cell_type": "code",
   "execution_count": 3,
   "metadata": {},
   "outputs": [
    {
     "data": {
      "text/html": [
       "<div>\n",
       "<table border=\"1\" class=\"dataframe\">\n",
       "  <thead>\n",
       "    <tr style=\"text-align: right;\">\n",
       "      <th></th>\n",
       "      <th>cre_line</th>\n",
       "      <th>donor_name</th>\n",
       "      <th>failed</th>\n",
       "      <th>id</th>\n",
       "      <th>imaging_depth</th>\n",
       "      <th>reporter_line</th>\n",
       "      <th>specimen_name</th>\n",
       "      <th>tags</th>\n",
       "      <th>targeted_structure</th>\n",
       "    </tr>\n",
       "  </thead>\n",
       "  <tbody>\n",
       "    <tr>\n",
       "      <th>0</th>\n",
       "      <td>Cux2-CreERT2</td>\n",
       "      <td>283284</td>\n",
       "      <td>False</td>\n",
       "      <td>566759225</td>\n",
       "      <td>275</td>\n",
       "      <td>Ai93(TITL-GCaMP6f)</td>\n",
       "      <td>Cux2-CreERT2;Camk2a-tTA;Ai93-283284</td>\n",
       "      <td>[]</td>\n",
       "      <td>VISam</td>\n",
       "    </tr>\n",
       "    <tr>\n",
       "      <th>1</th>\n",
       "      <td>Nr5a1-Cre</td>\n",
       "      <td>261969</td>\n",
       "      <td>False</td>\n",
       "      <td>546328009</td>\n",
       "      <td>350</td>\n",
       "      <td>Ai93(TITL-GCaMP6f)</td>\n",
       "      <td>Nr5a1-Cre;Camk2a-tTA;Ai93-261969</td>\n",
       "      <td>[]</td>\n",
       "      <td>VISal</td>\n",
       "    </tr>\n",
       "    <tr>\n",
       "      <th>2</th>\n",
       "      <td>Scnn1a-Tg3-Cre</td>\n",
       "      <td>230570</td>\n",
       "      <td>False</td>\n",
       "      <td>511510911</td>\n",
       "      <td>350</td>\n",
       "      <td>Ai93(TITL-GCaMP6f)</td>\n",
       "      <td>Scnn1a-Tg3-Cre;Camk2a-tTA;Ai93-230570</td>\n",
       "      <td>[]</td>\n",
       "      <td>VISp</td>\n",
       "    </tr>\n",
       "    <tr>\n",
       "      <th>3</th>\n",
       "      <td>Emx1-IRES-Cre</td>\n",
       "      <td>284669</td>\n",
       "      <td>False</td>\n",
       "      <td>569792815</td>\n",
       "      <td>375</td>\n",
       "      <td>Ai93(TITL-GCaMP6f)</td>\n",
       "      <td>Emx1-IRES-Cre;Camk2a-tTA;Ai93-284669</td>\n",
       "      <td>[]</td>\n",
       "      <td>VISam</td>\n",
       "    </tr>\n",
       "    <tr>\n",
       "      <th>4</th>\n",
       "      <td>Rbp4-Cre_KL100</td>\n",
       "      <td>234584</td>\n",
       "      <td>False</td>\n",
       "      <td>511511015</td>\n",
       "      <td>375</td>\n",
       "      <td>Ai93(TITL-GCaMP6f)</td>\n",
       "      <td>Rbp4-Cre;Camk2a-tTA;Ai93-234584</td>\n",
       "      <td>[]</td>\n",
       "      <td>VISpm</td>\n",
       "    </tr>\n",
       "  </tbody>\n",
       "</table>\n",
       "</div>"
      ],
      "text/plain": [
       "         cre_line donor_name failed         id  imaging_depth  \\\n",
       "0    Cux2-CreERT2     283284  False  566759225            275   \n",
       "1       Nr5a1-Cre     261969  False  546328009            350   \n",
       "2  Scnn1a-Tg3-Cre     230570  False  511510911            350   \n",
       "3   Emx1-IRES-Cre     284669  False  569792815            375   \n",
       "4  Rbp4-Cre_KL100     234584  False  511511015            375   \n",
       "\n",
       "        reporter_line                          specimen_name tags  \\\n",
       "0  Ai93(TITL-GCaMP6f)    Cux2-CreERT2;Camk2a-tTA;Ai93-283284   []   \n",
       "1  Ai93(TITL-GCaMP6f)       Nr5a1-Cre;Camk2a-tTA;Ai93-261969   []   \n",
       "2  Ai93(TITL-GCaMP6f)  Scnn1a-Tg3-Cre;Camk2a-tTA;Ai93-230570   []   \n",
       "3  Ai93(TITL-GCaMP6f)   Emx1-IRES-Cre;Camk2a-tTA;Ai93-284669   []   \n",
       "4  Ai93(TITL-GCaMP6f)        Rbp4-Cre;Camk2a-tTA;Ai93-234584   []   \n",
       "\n",
       "  targeted_structure  \n",
       "0              VISam  \n",
       "1              VISal  \n",
       "2               VISp  \n",
       "3              VISam  \n",
       "4              VISpm  "
      ]
     },
     "execution_count": 3,
     "metadata": {},
     "output_type": "execute_result"
    }
   ],
   "source": [
    "pd.DataFrame(boc.get_experiment_containers()).head()"
   ]
  },
  {
   "cell_type": "code",
   "execution_count": 4,
   "metadata": {
    "scrolled": true
   },
   "outputs": [
    {
     "data": {
      "text/html": [
       "<div>\n",
       "<table border=\"1\" class=\"dataframe\">\n",
       "  <thead>\n",
       "    <tr style=\"text-align: right;\">\n",
       "      <th></th>\n",
       "      <th>acquisition_age_days</th>\n",
       "      <th>cre_line</th>\n",
       "      <th>donor_name</th>\n",
       "      <th>experiment_container_id</th>\n",
       "      <th>id</th>\n",
       "      <th>imaging_depth</th>\n",
       "      <th>reporter_line</th>\n",
       "      <th>session_type</th>\n",
       "      <th>specimen_name</th>\n",
       "      <th>targeted_structure</th>\n",
       "    </tr>\n",
       "  </thead>\n",
       "  <tbody>\n",
       "    <tr>\n",
       "      <th>0</th>\n",
       "      <td>128</td>\n",
       "      <td>Emx1-IRES-Cre</td>\n",
       "      <td>284669</td>\n",
       "      <td>569792815</td>\n",
       "      <td>569792817</td>\n",
       "      <td>375</td>\n",
       "      <td>Ai93(TITL-GCaMP6f)</td>\n",
       "      <td>three_session_A</td>\n",
       "      <td>Emx1-IRES-Cre;Camk2a-tTA;Ai93-284669</td>\n",
       "      <td>VISam</td>\n",
       "    </tr>\n",
       "    <tr>\n",
       "      <th>1</th>\n",
       "      <td>137</td>\n",
       "      <td>Emx1-IRES-Cre</td>\n",
       "      <td>284669</td>\n",
       "      <td>569792815</td>\n",
       "      <td>571006351</td>\n",
       "      <td>375</td>\n",
       "      <td>Ai93(TITL-GCaMP6f)</td>\n",
       "      <td>three_session_C2</td>\n",
       "      <td>Emx1-IRES-Cre;Camk2a-tTA;Ai93-284669</td>\n",
       "      <td>VISam</td>\n",
       "    </tr>\n",
       "    <tr>\n",
       "      <th>2</th>\n",
       "      <td>136</td>\n",
       "      <td>Emx1-IRES-Cre</td>\n",
       "      <td>284669</td>\n",
       "      <td>569792815</td>\n",
       "      <td>570889097</td>\n",
       "      <td>375</td>\n",
       "      <td>Ai93(TITL-GCaMP6f)</td>\n",
       "      <td>three_session_B</td>\n",
       "      <td>Emx1-IRES-Cre;Camk2a-tTA;Ai93-284669</td>\n",
       "      <td>VISam</td>\n",
       "    </tr>\n",
       "  </tbody>\n",
       "</table>\n",
       "</div>"
      ],
      "text/plain": [
       "   acquisition_age_days       cre_line donor_name  experiment_container_id  \\\n",
       "0                   128  Emx1-IRES-Cre     284669                569792815   \n",
       "1                   137  Emx1-IRES-Cre     284669                569792815   \n",
       "2                   136  Emx1-IRES-Cre     284669                569792815   \n",
       "\n",
       "          id  imaging_depth       reporter_line      session_type  \\\n",
       "0  569792817            375  Ai93(TITL-GCaMP6f)   three_session_A   \n",
       "1  571006351            375  Ai93(TITL-GCaMP6f)  three_session_C2   \n",
       "2  570889097            375  Ai93(TITL-GCaMP6f)   three_session_B   \n",
       "\n",
       "                          specimen_name targeted_structure  \n",
       "0  Emx1-IRES-Cre;Camk2a-tTA;Ai93-284669              VISam  \n",
       "1  Emx1-IRES-Cre;Camk2a-tTA;Ai93-284669              VISam  \n",
       "2  Emx1-IRES-Cre;Camk2a-tTA;Ai93-284669              VISam  "
      ]
     },
     "execution_count": 4,
     "metadata": {},
     "output_type": "execute_result"
    }
   ],
   "source": [
    "sessions = boc.get_ophys_experiments(experiment_container_ids=[569792815])\n",
    "pd.DataFrame(sessions).head()"
   ]
  },
  {
   "cell_type": "code",
   "execution_count": 5,
   "metadata": {
    "scrolled": false
   },
   "outputs": [
    {
     "name": "stderr",
     "output_type": "stream",
     "text": [
      "/Users/perryspratt/anaconda/lib/python2.7/site-packages/OASIS/functions.py:15: UserWarning: Could not find cvxpy. Don't worry, you can still use OASIS, just not the slower interior point methods we compared to in the papers.\n",
      "  \"just not the slower interior point methods we compared to in the papers.\")\n"
     ]
    },
    {
     "name": "stdout",
     "output_type": "stream",
     "text": [
      "a\n"
     ]
    }
   ],
   "source": [
    "ophys_experiment_id = 569792817\t #example experiment\n",
    "\n",
    "dt.get_epoch_spiking_data(boc=boc, ophys_experiment_id=ophys_experiment_id,std=10)\n",
    "\n",
    "print 'a'\n",
    "\n",
    "\n"
   ]
  },
  {
   "cell_type": "code",
   "execution_count": 10,
   "metadata": {
    "collapsed": true
   },
   "outputs": [],
   "source": [
    "dff_traces, timestamps, cell_specimen_ids = dt.get_dff(boc=boc, ophys_experiment_id=ophys_experiment_id)\n",
    "\n",
    "from OASIS.functions import deconvolve\n",
    "\n",
    "dff_trace = dff_traces[0]\n",
    "num_std = 6\n",
    "penalty = 1\n",
    "spike_prob_list = []\n",
    "dff = {}\n",
    "\n",
    "for i, dff_trace in enumerate(dff_traces):\n",
    "    c, s, b, g, lam = deconvolve(np.double(dff_trace), penalty=penalty)\n",
    "    spike_prob_list.append(s)\n",
    "    dff[cell_specimen_ids[i]] = dff_trace"
   ]
  },
  {
   "cell_type": "code",
   "execution_count": 7,
   "metadata": {
    "collapsed": true
   },
   "outputs": [],
   "source": [
    "def change_deconv_significance(spike_prob_list,cell_specimen_ids, num_std):\n",
    "    std = np.std(np.asarray(spike_prob_list))\n",
    "\n",
    "    spike_times = {}\n",
    "    isis = {}\n",
    "    spikes = {}\n",
    "\n",
    "    for i, spike_prob in enumerate(spike_prob_list):\n",
    "        s_sig = (spike_prob >= num_std * std)\n",
    "        spikes[cell_specimen_ids[i]] = s_sig * 1\n",
    "        spike_times[cell_specimen_ids[i]] = timestamps[s_sig]\n",
    "        isis[cell_specimen_ids[i]] = np.diff(spike_times[cell_specimen_ids[i]])\n",
    "    \n",
    "    return spikes\n",
    "\n",
    "    "
   ]
  },
  {
   "cell_type": "code",
   "execution_count": 8,
   "metadata": {
    "collapsed": true
   },
   "outputs": [],
   "source": [
    "def get_firing_rate(spikes, timestamps, window):\n",
    "    fr = []\n",
    "    time = timestamps[window*2] - timestamps[0]\n",
    "    for i in range(window, len(spikes)-window):\n",
    "        inst_fr = np.sum(spikes[i-window:i+window])/time\n",
    "        fr.append(inst_fr)\n",
    "\n",
    "    \n",
    "    return fr\n",
    "    "
   ]
  },
  {
   "cell_type": "code",
   "execution_count": 9,
   "metadata": {},
   "outputs": [
    {
     "ename": "NameError",
     "evalue": "name 'spikes' is not defined",
     "output_type": "error",
     "traceback": [
      "\u001b[0;31m---------------------------------------------------------------------------\u001b[0m",
      "\u001b[0;31mNameError\u001b[0m                                 Traceback (most recent call last)",
      "\u001b[0;32m<ipython-input-9-ff61663da1c8>\u001b[0m in \u001b[0;36m<module>\u001b[0;34m()\u001b[0m\n\u001b[1;32m      3\u001b[0m \u001b[0;34m\u001b[0m\u001b[0m\n\u001b[1;32m      4\u001b[0m \u001b[0;32mfor\u001b[0m \u001b[0mnum_std\u001b[0m \u001b[0;32min\u001b[0m \u001b[0mrange\u001b[0m\u001b[0;34m(\u001b[0m\u001b[0;36m5\u001b[0m\u001b[0;34m)\u001b[0m\u001b[0;34m:\u001b[0m\u001b[0;34m\u001b[0m\u001b[0m\n\u001b[0;32m----> 5\u001b[0;31m     \u001b[0mcell_ids\u001b[0m \u001b[0;34m=\u001b[0m \u001b[0mspikes\u001b[0m\u001b[0;34m.\u001b[0m\u001b[0mkeys\u001b[0m\u001b[0;34m(\u001b[0m\u001b[0;34m)\u001b[0m\u001b[0;34m\u001b[0m\u001b[0m\n\u001b[0m\u001b[1;32m      6\u001b[0m     \u001b[0mindex\u001b[0m \u001b[0;34m=\u001b[0m \u001b[0;36m0\u001b[0m\u001b[0;34m\u001b[0m\u001b[0m\n\u001b[1;32m      7\u001b[0m \u001b[0;34m\u001b[0m\u001b[0m\n",
      "\u001b[0;31mNameError\u001b[0m: name 'spikes' is not defined"
     ]
    }
   ],
   "source": [
    "start = 2500\n",
    "stop =  3000\n",
    "\n",
    "for num_std in range(5):\n",
    "    cell_ids = spikes.keys()\n",
    "    index = 0\n",
    "    \n",
    "    spikes = change_deconv_significance(spike_prob_list,cell_specimen_ids, num_std)\n",
    "    \n",
    "    print np.sum(spikes[cell_ids[index]])\n",
    "    \n",
    "    plt.plot(dff[cell_ids[index]])\n",
    "    plt.plot(spikes[cell_ids[index]] * np.max(dff[cell_ids[index]]))\n",
    "    plt.xlim(start, stop)\n",
    "    plt.title(str(num_std) + ' STD: ' + str(np.sum(spikes[cell_ids[index]])) + ' spikes')\n",
    "    plt.show()\n",
    "    \n",
    "    fr = get_firing_rate(spikes[cell_ids[index]], timestamps, 15)\n",
    "\n",
    "    plt.plot(fr)\n",
    "    plt.title(str(num_std)+ ' STD: Mean FR=' + str(np.mean(fr)))\n",
    "    plt.show()\n",
    "    "
   ]
  },
  {
   "cell_type": "code",
   "execution_count": null,
   "metadata": {},
   "outputs": [],
   "source": [
    "for num_std in range(5):\n",
    "    spikes = change_deconv_significance(spike_prob_list,cell_specimen_ids, num_std)\n",
    "    fr = []\n",
    "    mean_fr = []\n",
    "    for i,k in enumerate(spikes):\n",
    "#         fr.append(get_firing_rate(spikes[k], timestamps, 15))\n",
    "        mean_fr.append(np.mean(get_firing_rate(spikes[k], timestamps, 15)))\n",
    "    plt.hist(mean_fr)\n",
    "    plt.title(str(num_std)+ ' STD')\n",
    "    plt.show()\n",
    "    \n",
    "    \n",
    "    "
   ]
  },
  {
   "cell_type": "code",
   "execution_count": null,
   "metadata": {},
   "outputs": [],
   "source": [
    "    "
   ]
  },
  {
   "cell_type": "code",
   "execution_count": null,
   "metadata": {
    "collapsed": true
   },
   "outputs": [],
   "source": []
  }
 ],
 "metadata": {
  "kernelspec": {
   "display_name": "Python [default]",
   "language": "python",
   "name": "python2"
  },
  "language_info": {
   "codemirror_mode": {
    "name": "ipython",
    "version": 2
   },
   "file_extension": ".py",
   "mimetype": "text/x-python",
   "name": "python",
   "nbconvert_exporter": "python",
   "pygments_lexer": "ipython2",
   "version": "2.7.13"
  }
 },
 "nbformat": 4,
 "nbformat_minor": 2
}
