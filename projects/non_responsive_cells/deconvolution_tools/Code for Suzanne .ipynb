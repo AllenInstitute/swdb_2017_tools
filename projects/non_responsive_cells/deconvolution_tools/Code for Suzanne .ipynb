{
 "cells": [
  {
   "cell_type": "code",
   "execution_count": 1,
   "metadata": {
    "collapsed": true
   },
   "outputs": [],
   "source": [
    "#Import Modules\n",
    "import os\n",
    "import deconvolution_tools as dt\n",
    "import numpy as np\n",
    "import pandas as pd\n",
    "\n",
    "%matplotlib inline"
   ]
  },
  {
   "cell_type": "code",
   "execution_count": 2,
   "metadata": {},
   "outputs": [
    {
     "name": "stdout",
     "output_type": "stream",
     "text": [
      "[u'Cux2-CreERT2', u'Emx1-IRES-Cre', u'Nr5a1-Cre', u'Rbp4-Cre_KL100', u'Rorb-IRES2-Cre', u'Scnn1a-Tg3-Cre']\n",
      "[u'VISal', u'VISam', u'VISl', u'VISp', u'VISpm', u'VISrl']\n"
     ]
    }
   ],
   "source": [
    "drive_path = '/Volumes/Brain2017/data/dynamic-brain-workshop/brain_observatory_cache/'\n",
    "\n",
    "from allensdk.core.brain_observatory_cache import BrainObservatoryCache\n",
    "manifest_file = os.path.join(drive_path,'brain_observatory_manifest.json')\n",
    "boc = BrainObservatoryCache(manifest_file=manifest_file)\n",
    "\n",
    "print boc.get_all_cre_lines()\n",
    "print boc.get_all_targeted_structures()"
   ]
  },
  {
   "cell_type": "code",
   "execution_count": 3,
   "metadata": {},
   "outputs": [
    {
     "data": {
      "text/html": [
       "<div>\n",
       "<table border=\"1\" class=\"dataframe\">\n",
       "  <thead>\n",
       "    <tr style=\"text-align: right;\">\n",
       "      <th></th>\n",
       "      <th>cre_line</th>\n",
       "      <th>donor_name</th>\n",
       "      <th>failed</th>\n",
       "      <th>id</th>\n",
       "      <th>imaging_depth</th>\n",
       "      <th>reporter_line</th>\n",
       "      <th>specimen_name</th>\n",
       "      <th>tags</th>\n",
       "      <th>targeted_structure</th>\n",
       "    </tr>\n",
       "  </thead>\n",
       "  <tbody>\n",
       "    <tr>\n",
       "      <th>0</th>\n",
       "      <td>Emx1-IRES-Cre</td>\n",
       "      <td>280638</td>\n",
       "      <td>False</td>\n",
       "      <td>561312433</td>\n",
       "      <td>275</td>\n",
       "      <td>Ai93(TITL-GCaMP6f)</td>\n",
       "      <td>Emx1-IRES-Cre;Camk2a-tTA;Ai93-280638</td>\n",
       "      <td>[]</td>\n",
       "      <td>VISp</td>\n",
       "    </tr>\n",
       "    <tr>\n",
       "      <th>1</th>\n",
       "      <td>Emx1-IRES-Cre</td>\n",
       "      <td>261458</td>\n",
       "      <td>False</td>\n",
       "      <td>540168835</td>\n",
       "      <td>375</td>\n",
       "      <td>Ai93(TITL-GCaMP6f)</td>\n",
       "      <td>Emx1-IRES-Cre;Camk2a-tTA;Ai93-261458</td>\n",
       "      <td>[]</td>\n",
       "      <td>VISp</td>\n",
       "    </tr>\n",
       "    <tr>\n",
       "      <th>2</th>\n",
       "      <td>Emx1-IRES-Cre</td>\n",
       "      <td>237706</td>\n",
       "      <td>False</td>\n",
       "      <td>517328083</td>\n",
       "      <td>175</td>\n",
       "      <td>Ai93(TITL-GCaMP6f)</td>\n",
       "      <td>Emx1-IRES-Cre;Camk2a-tTA;Ai93-237706</td>\n",
       "      <td>[Epileptiform Events]</td>\n",
       "      <td>VISp</td>\n",
       "    </tr>\n",
       "    <tr>\n",
       "      <th>3</th>\n",
       "      <td>Emx1-IRES-Cre</td>\n",
       "      <td>252174</td>\n",
       "      <td>False</td>\n",
       "      <td>536323956</td>\n",
       "      <td>175</td>\n",
       "      <td>Ai93(TITL-GCaMP6f)</td>\n",
       "      <td>Emx1-IRES-Cre;Camk2a-tTA;Ai93(MG)-252174</td>\n",
       "      <td>[]</td>\n",
       "      <td>VISp</td>\n",
       "    </tr>\n",
       "    <tr>\n",
       "      <th>4</th>\n",
       "      <td>Emx1-IRES-Cre</td>\n",
       "      <td>260936</td>\n",
       "      <td>False</td>\n",
       "      <td>545578995</td>\n",
       "      <td>375</td>\n",
       "      <td>Ai93(TITL-GCaMP6f)</td>\n",
       "      <td>Emx1-IRES-Cre;Camk2a-tTA;Ai93-260936</td>\n",
       "      <td>[]</td>\n",
       "      <td>VISp</td>\n",
       "    </tr>\n",
       "    <tr>\n",
       "      <th>5</th>\n",
       "      <td>Emx1-IRES-Cre</td>\n",
       "      <td>260936</td>\n",
       "      <td>False</td>\n",
       "      <td>543677425</td>\n",
       "      <td>175</td>\n",
       "      <td>Ai93(TITL-GCaMP6f)</td>\n",
       "      <td>Emx1-IRES-Cre;Camk2a-tTA;Ai93-260936</td>\n",
       "      <td>[]</td>\n",
       "      <td>VISp</td>\n",
       "    </tr>\n",
       "    <tr>\n",
       "      <th>6</th>\n",
       "      <td>Emx1-IRES-Cre</td>\n",
       "      <td>237706</td>\n",
       "      <td>False</td>\n",
       "      <td>527676429</td>\n",
       "      <td>275</td>\n",
       "      <td>Ai93(TITL-GCaMP6f)</td>\n",
       "      <td>Emx1-IRES-Cre;Camk2a-tTA;Ai93-237706</td>\n",
       "      <td>[Epileptiform Events]</td>\n",
       "      <td>VISp</td>\n",
       "    </tr>\n",
       "  </tbody>\n",
       "</table>\n",
       "</div>"
      ],
      "text/plain": [
       "        cre_line donor_name failed         id  imaging_depth  \\\n",
       "0  Emx1-IRES-Cre     280638  False  561312433            275   \n",
       "1  Emx1-IRES-Cre     261458  False  540168835            375   \n",
       "2  Emx1-IRES-Cre     237706  False  517328083            175   \n",
       "3  Emx1-IRES-Cre     252174  False  536323956            175   \n",
       "4  Emx1-IRES-Cre     260936  False  545578995            375   \n",
       "5  Emx1-IRES-Cre     260936  False  543677425            175   \n",
       "6  Emx1-IRES-Cre     237706  False  527676429            275   \n",
       "\n",
       "        reporter_line                             specimen_name  \\\n",
       "0  Ai93(TITL-GCaMP6f)      Emx1-IRES-Cre;Camk2a-tTA;Ai93-280638   \n",
       "1  Ai93(TITL-GCaMP6f)      Emx1-IRES-Cre;Camk2a-tTA;Ai93-261458   \n",
       "2  Ai93(TITL-GCaMP6f)      Emx1-IRES-Cre;Camk2a-tTA;Ai93-237706   \n",
       "3  Ai93(TITL-GCaMP6f)  Emx1-IRES-Cre;Camk2a-tTA;Ai93(MG)-252174   \n",
       "4  Ai93(TITL-GCaMP6f)      Emx1-IRES-Cre;Camk2a-tTA;Ai93-260936   \n",
       "5  Ai93(TITL-GCaMP6f)      Emx1-IRES-Cre;Camk2a-tTA;Ai93-260936   \n",
       "6  Ai93(TITL-GCaMP6f)      Emx1-IRES-Cre;Camk2a-tTA;Ai93-237706   \n",
       "\n",
       "                    tags targeted_structure  \n",
       "0                     []               VISp  \n",
       "1                     []               VISp  \n",
       "2  [Epileptiform Events]               VISp  \n",
       "3                     []               VISp  \n",
       "4                     []               VISp  \n",
       "5                     []               VISp  \n",
       "6  [Epileptiform Events]               VISp  "
      ]
     },
     "execution_count": 3,
     "metadata": {},
     "output_type": "execute_result"
    }
   ],
   "source": [
    "pd.DataFrame(boc.get_experiment_containers(cre_lines=['Emx1-IRES-Cre'], targeted_structures=['VISp']))"
   ]
  },
  {
   "cell_type": "code",
   "execution_count": 4,
   "metadata": {
    "scrolled": true
   },
   "outputs": [
    {
     "data": {
      "text/html": [
       "<div>\n",
       "<table border=\"1\" class=\"dataframe\">\n",
       "  <thead>\n",
       "    <tr style=\"text-align: right;\">\n",
       "      <th></th>\n",
       "      <th>acquisition_age_days</th>\n",
       "      <th>cre_line</th>\n",
       "      <th>donor_name</th>\n",
       "      <th>experiment_container_id</th>\n",
       "      <th>id</th>\n",
       "      <th>imaging_depth</th>\n",
       "      <th>reporter_line</th>\n",
       "      <th>session_type</th>\n",
       "      <th>specimen_name</th>\n",
       "      <th>targeted_structure</th>\n",
       "    </tr>\n",
       "  </thead>\n",
       "  <tbody>\n",
       "    <tr>\n",
       "      <th>0</th>\n",
       "      <td>107</td>\n",
       "      <td>Emx1-IRES-Cre</td>\n",
       "      <td>260936</td>\n",
       "      <td>545578995</td>\n",
       "      <td>546716391</td>\n",
       "      <td>375</td>\n",
       "      <td>Ai93(TITL-GCaMP6f)</td>\n",
       "      <td>three_session_A</td>\n",
       "      <td>Emx1-IRES-Cre;Camk2a-tTA;Ai93-260936</td>\n",
       "      <td>VISp</td>\n",
       "    </tr>\n",
       "    <tr>\n",
       "      <th>1</th>\n",
       "      <td>105</td>\n",
       "      <td>Emx1-IRES-Cre</td>\n",
       "      <td>260936</td>\n",
       "      <td>545578995</td>\n",
       "      <td>546341286</td>\n",
       "      <td>375</td>\n",
       "      <td>Ai93(TITL-GCaMP6f)</td>\n",
       "      <td>three_session_C2</td>\n",
       "      <td>Emx1-IRES-Cre;Camk2a-tTA;Ai93-260936</td>\n",
       "      <td>VISp</td>\n",
       "    </tr>\n",
       "    <tr>\n",
       "      <th>2</th>\n",
       "      <td>100</td>\n",
       "      <td>Emx1-IRES-Cre</td>\n",
       "      <td>260936</td>\n",
       "      <td>545578995</td>\n",
       "      <td>545578997</td>\n",
       "      <td>375</td>\n",
       "      <td>Ai93(TITL-GCaMP6f)</td>\n",
       "      <td>three_session_B</td>\n",
       "      <td>Emx1-IRES-Cre;Camk2a-tTA;Ai93-260936</td>\n",
       "      <td>VISp</td>\n",
       "    </tr>\n",
       "  </tbody>\n",
       "</table>\n",
       "</div>"
      ],
      "text/plain": [
       "   acquisition_age_days       cre_line donor_name  experiment_container_id  \\\n",
       "0                   107  Emx1-IRES-Cre     260936                545578995   \n",
       "1                   105  Emx1-IRES-Cre     260936                545578995   \n",
       "2                   100  Emx1-IRES-Cre     260936                545578995   \n",
       "\n",
       "          id  imaging_depth       reporter_line      session_type  \\\n",
       "0  546716391            375  Ai93(TITL-GCaMP6f)   three_session_A   \n",
       "1  546341286            375  Ai93(TITL-GCaMP6f)  three_session_C2   \n",
       "2  545578997            375  Ai93(TITL-GCaMP6f)   three_session_B   \n",
       "\n",
       "                          specimen_name targeted_structure  \n",
       "0  Emx1-IRES-Cre;Camk2a-tTA;Ai93-260936               VISp  \n",
       "1  Emx1-IRES-Cre;Camk2a-tTA;Ai93-260936               VISp  \n",
       "2  Emx1-IRES-Cre;Camk2a-tTA;Ai93-260936               VISp  "
      ]
     },
     "execution_count": 4,
     "metadata": {},
     "output_type": "execute_result"
    }
   ],
   "source": [
    "pd.DataFrame(boc.get_ophys_experiments(experiment_container_ids=[545578995]))"
   ]
  },
  {
   "cell_type": "code",
   "execution_count": 5,
   "metadata": {
    "scrolled": true
   },
   "outputs": [
    {
     "data": {
      "text/html": [
       "<div>\n",
       "<table border=\"1\" class=\"dataframe\">\n",
       "  <thead>\n",
       "    <tr style=\"text-align: right;\">\n",
       "      <th></th>\n",
       "      <th>acquisition_age_days</th>\n",
       "      <th>cre_line</th>\n",
       "      <th>donor_name</th>\n",
       "      <th>experiment_container_id</th>\n",
       "      <th>id</th>\n",
       "      <th>imaging_depth</th>\n",
       "      <th>reporter_line</th>\n",
       "      <th>session_type</th>\n",
       "      <th>specimen_name</th>\n",
       "      <th>targeted_structure</th>\n",
       "    </tr>\n",
       "  </thead>\n",
       "  <tbody>\n",
       "    <tr>\n",
       "      <th>0</th>\n",
       "      <td>99</td>\n",
       "      <td>Emx1-IRES-Cre</td>\n",
       "      <td>260936</td>\n",
       "      <td>543677425</td>\n",
       "      <td>545446482</td>\n",
       "      <td>175</td>\n",
       "      <td>Ai93(TITL-GCaMP6f)</td>\n",
       "      <td>three_session_A</td>\n",
       "      <td>Emx1-IRES-Cre;Camk2a-tTA;Ai93-260936</td>\n",
       "      <td>VISp</td>\n",
       "    </tr>\n",
       "    <tr>\n",
       "      <th>1</th>\n",
       "      <td>93</td>\n",
       "      <td>Emx1-IRES-Cre</td>\n",
       "      <td>260936</td>\n",
       "      <td>543677425</td>\n",
       "      <td>544507627</td>\n",
       "      <td>175</td>\n",
       "      <td>Ai93(TITL-GCaMP6f)</td>\n",
       "      <td>three_session_B</td>\n",
       "      <td>Emx1-IRES-Cre;Camk2a-tTA;Ai93-260936</td>\n",
       "      <td>VISp</td>\n",
       "    </tr>\n",
       "    <tr>\n",
       "      <th>2</th>\n",
       "      <td>91</td>\n",
       "      <td>Emx1-IRES-Cre</td>\n",
       "      <td>260936</td>\n",
       "      <td>543677425</td>\n",
       "      <td>543677427</td>\n",
       "      <td>175</td>\n",
       "      <td>Ai93(TITL-GCaMP6f)</td>\n",
       "      <td>three_session_C</td>\n",
       "      <td>Emx1-IRES-Cre;Camk2a-tTA;Ai93-260936</td>\n",
       "      <td>VISp</td>\n",
       "    </tr>\n",
       "  </tbody>\n",
       "</table>\n",
       "</div>"
      ],
      "text/plain": [
       "   acquisition_age_days       cre_line donor_name  experiment_container_id  \\\n",
       "0                    99  Emx1-IRES-Cre     260936                543677425   \n",
       "1                    93  Emx1-IRES-Cre     260936                543677425   \n",
       "2                    91  Emx1-IRES-Cre     260936                543677425   \n",
       "\n",
       "          id  imaging_depth       reporter_line     session_type  \\\n",
       "0  545446482            175  Ai93(TITL-GCaMP6f)  three_session_A   \n",
       "1  544507627            175  Ai93(TITL-GCaMP6f)  three_session_B   \n",
       "2  543677427            175  Ai93(TITL-GCaMP6f)  three_session_C   \n",
       "\n",
       "                          specimen_name targeted_structure  \n",
       "0  Emx1-IRES-Cre;Camk2a-tTA;Ai93-260936               VISp  \n",
       "1  Emx1-IRES-Cre;Camk2a-tTA;Ai93-260936               VISp  \n",
       "2  Emx1-IRES-Cre;Camk2a-tTA;Ai93-260936               VISp  "
      ]
     },
     "execution_count": 5,
     "metadata": {},
     "output_type": "execute_result"
    }
   ],
   "source": [
    "pd.DataFrame(boc.get_ophys_experiments(experiment_container_ids=[543677425]))"
   ]
  },
  {
   "cell_type": "code",
   "execution_count": 6,
   "metadata": {},
   "outputs": [
    {
     "data": {
      "text/html": [
       "<div>\n",
       "<table border=\"1\" class=\"dataframe\">\n",
       "  <thead>\n",
       "    <tr style=\"text-align: right;\">\n",
       "      <th></th>\n",
       "      <th>stimulus</th>\n",
       "      <th>start</th>\n",
       "      <th>end</th>\n",
       "    </tr>\n",
       "  </thead>\n",
       "  <tbody>\n",
       "    <tr>\n",
       "      <th>0</th>\n",
       "      <td>static_gratings</td>\n",
       "      <td>743</td>\n",
       "      <td>15189</td>\n",
       "    </tr>\n",
       "    <tr>\n",
       "      <th>1</th>\n",
       "      <td>natural_scenes</td>\n",
       "      <td>16093</td>\n",
       "      <td>30538</td>\n",
       "    </tr>\n",
       "    <tr>\n",
       "      <th>2</th>\n",
       "      <td>spontaneous</td>\n",
       "      <td>30688</td>\n",
       "      <td>39567</td>\n",
       "    </tr>\n",
       "    <tr>\n",
       "      <th>3</th>\n",
       "      <td>natural_scenes</td>\n",
       "      <td>39568</td>\n",
       "      <td>54013</td>\n",
       "    </tr>\n",
       "    <tr>\n",
       "      <th>4</th>\n",
       "      <td>static_gratings</td>\n",
       "      <td>54917</td>\n",
       "      <td>69362</td>\n",
       "    </tr>\n",
       "    <tr>\n",
       "      <th>5</th>\n",
       "      <td>natural_movie_one</td>\n",
       "      <td>70265</td>\n",
       "      <td>79294</td>\n",
       "    </tr>\n",
       "    <tr>\n",
       "      <th>6</th>\n",
       "      <td>natural_scenes</td>\n",
       "      <td>80197</td>\n",
       "      <td>96071</td>\n",
       "    </tr>\n",
       "    <tr>\n",
       "      <th>7</th>\n",
       "      <td>static_gratings</td>\n",
       "      <td>97351</td>\n",
       "      <td>113602</td>\n",
       "    </tr>\n",
       "  </tbody>\n",
       "</table>\n",
       "</div>"
      ],
      "text/plain": [
       "            stimulus  start     end\n",
       "0    static_gratings    743   15189\n",
       "1     natural_scenes  16093   30538\n",
       "2        spontaneous  30688   39567\n",
       "3     natural_scenes  39568   54013\n",
       "4    static_gratings  54917   69362\n",
       "5  natural_movie_one  70265   79294\n",
       "6     natural_scenes  80197   96071\n",
       "7    static_gratings  97351  113602"
      ]
     },
     "execution_count": 6,
     "metadata": {},
     "output_type": "execute_result"
    }
   ],
   "source": [
    "dataset1 = boc.get_ophys_experiment_data(ophys_experiment_id=545578997)\n",
    "dataset2 = boc.get_ophys_experiment_data(ophys_experiment_id=544507627)\n",
    "dataset1.get_stimulus_epoch_table()"
   ]
  },
  {
   "cell_type": "code",
   "execution_count": 7,
   "metadata": {
    "scrolled": true
   },
   "outputs": [
    {
     "data": {
      "text/html": [
       "<div>\n",
       "<table border=\"1\" class=\"dataframe\">\n",
       "  <thead>\n",
       "    <tr style=\"text-align: right;\">\n",
       "      <th></th>\n",
       "      <th>frame</th>\n",
       "      <th>start</th>\n",
       "      <th>end</th>\n",
       "    </tr>\n",
       "  </thead>\n",
       "  <tbody>\n",
       "    <tr>\n",
       "      <th>0</th>\n",
       "      <td>86</td>\n",
       "      <td>16093</td>\n",
       "      <td>16100</td>\n",
       "    </tr>\n",
       "    <tr>\n",
       "      <th>1</th>\n",
       "      <td>64</td>\n",
       "      <td>16100</td>\n",
       "      <td>16107</td>\n",
       "    </tr>\n",
       "    <tr>\n",
       "      <th>2</th>\n",
       "      <td>21</td>\n",
       "      <td>16108</td>\n",
       "      <td>16115</td>\n",
       "    </tr>\n",
       "    <tr>\n",
       "      <th>3</th>\n",
       "      <td>79</td>\n",
       "      <td>16115</td>\n",
       "      <td>16122</td>\n",
       "    </tr>\n",
       "    <tr>\n",
       "      <th>4</th>\n",
       "      <td>116</td>\n",
       "      <td>16123</td>\n",
       "      <td>16130</td>\n",
       "    </tr>\n",
       "  </tbody>\n",
       "</table>\n",
       "</div>"
      ],
      "text/plain": [
       "   frame  start    end\n",
       "0     86  16093  16100\n",
       "1     64  16100  16107\n",
       "2     21  16108  16115\n",
       "3     79  16115  16122\n",
       "4    116  16123  16130"
      ]
     },
     "execution_count": 7,
     "metadata": {},
     "output_type": "execute_result"
    }
   ],
   "source": [
    "df_1 = dataset1.get_stimulus_table(stimulus_name='natural_scenes')\n",
    "df_1.head()"
   ]
  },
  {
   "cell_type": "code",
   "execution_count": 8,
   "metadata": {
    "scrolled": true
   },
   "outputs": [
    {
     "data": {
      "text/html": [
       "<div>\n",
       "<table border=\"1\" class=\"dataframe\">\n",
       "  <thead>\n",
       "    <tr style=\"text-align: right;\">\n",
       "      <th></th>\n",
       "      <th>frame</th>\n",
       "      <th>start</th>\n",
       "      <th>end</th>\n",
       "    </tr>\n",
       "  </thead>\n",
       "  <tbody>\n",
       "    <tr>\n",
       "      <th>0</th>\n",
       "      <td>107</td>\n",
       "      <td>16097</td>\n",
       "      <td>16104</td>\n",
       "    </tr>\n",
       "    <tr>\n",
       "      <th>1</th>\n",
       "      <td>28</td>\n",
       "      <td>16105</td>\n",
       "      <td>16112</td>\n",
       "    </tr>\n",
       "    <tr>\n",
       "      <th>2</th>\n",
       "      <td>73</td>\n",
       "      <td>16112</td>\n",
       "      <td>16119</td>\n",
       "    </tr>\n",
       "    <tr>\n",
       "      <th>3</th>\n",
       "      <td>49</td>\n",
       "      <td>16120</td>\n",
       "      <td>16127</td>\n",
       "    </tr>\n",
       "    <tr>\n",
       "      <th>4</th>\n",
       "      <td>109</td>\n",
       "      <td>16127</td>\n",
       "      <td>16134</td>\n",
       "    </tr>\n",
       "    <tr>\n",
       "      <th>5</th>\n",
       "      <td>103</td>\n",
       "      <td>16135</td>\n",
       "      <td>16142</td>\n",
       "    </tr>\n",
       "  </tbody>\n",
       "</table>\n",
       "</div>"
      ],
      "text/plain": [
       "   frame  start    end\n",
       "0    107  16097  16104\n",
       "1     28  16105  16112\n",
       "2     73  16112  16119\n",
       "3     49  16120  16127\n",
       "4    109  16127  16134\n",
       "5    103  16135  16142"
      ]
     },
     "execution_count": 8,
     "metadata": {},
     "output_type": "execute_result"
    }
   ],
   "source": [
    "df_2 = dataset2.get_stimulus_table(stimulus_name='natural_scenes')\n",
    "df_2.head(6)"
   ]
  },
  {
   "cell_type": "code",
   "execution_count": 9,
   "metadata": {
    "collapsed": true
   },
   "outputs": [],
   "source": [
    "def get_ns_frame_from_timestamp(boc,ophys_experiment_id, timestamps):\n",
    "    '''\n",
    "    Get natural stimuli frames that are presented at specificed timestamps\n",
    "    \n",
    "    Code will through error if timestamps are not from natural_scenes epoch\n",
    "    \n",
    "    Inputs:\n",
    "        boc: brainObservatoryCache\n",
    "        ophys_experiment_id: ophys_experiment_id\n",
    "        timestamps: list dff_timestamps \n",
    "    Output\n",
    "        output: List of Frames presented for each item in list timstamps\n",
    "    '''\n",
    "    \n",
    "    \n",
    "    dataset = boc.get_ophys_experiment_data(ophys_experiment_id=ophys_experiment_id)\n",
    "    df = dataset.get_stimulus_table(stimulus_name='natural_scenes')\n",
    "    \n",
    "    start_list = df.start.tolist()\n",
    "    end_list = df.end.tolist()\n",
    "    frames_list = df.frame.tolist()\n",
    "    \n",
    "    output = []\n",
    "    for timestamp in timestamps:\n",
    "        \n",
    "        if dataset.get_stimulus(frame_ind=timestamp)\n",
    "        \n",
    "        start_bool = np.array(timestamp) >= start_list\n",
    "        end_bool = np.array(timestamp) <= end_list\n",
    "        index =  [a and b for a, b in zip(start_bool, end_bool)]\n",
    "#         print np.where(index)[0][0]\n",
    "        output.append(int(np.where(index)[0][0]))\n",
    "        \n",
    "    return output\n",
    "    "
   ]
  },
  {
   "cell_type": "code",
   "execution_count": null,
   "metadata": {
    "collapsed": true
   },
   "outputs": [],
   "source": []
  },
  {
   "cell_type": "code",
   "execution_count": 44,
   "metadata": {},
   "outputs": [],
   "source": [
    "timestamps = [11386, 11387, 11388, 11389, 11390, 11391, 11392, 11393, 11394, 11395, 11396, 11397,\n",
    "11398, 11399, 11400, 11401, 11402, 11403, 11405, 11450, 11451, 11452, 11456, 11458,\n",
    "17671, 17672, 18497, 18498, 18499, 18500, 18515, 18516, 18518, 18519, 18610, 18611,\n",
    "18612, 18613, 18614, 18615, 21045, 21046, 21047, 28227, 28229, 28881, 28882, 28884,\n",
    "28885, 38841, 38842, 38843, 38844, 38845, 38846, 38849]\n",
    "\n",
    "timestamps = [17671, 17672, 18497, 18498, 18499, 18500, 18515, 18516, 18518, 18519, 18610, 18611,\n",
    "18612, 18613, 18614, 18615]"
   ]
  },
  {
   "cell_type": "code",
   "execution_count": 45,
   "metadata": {},
   "outputs": [
    {
     "data": {
      "text/plain": [
       "[204,\n",
       " 205,\n",
       " 314,\n",
       " 314,\n",
       " 314,\n",
       " 314,\n",
       " 316,\n",
       " 316,\n",
       " 317,\n",
       " 317,\n",
       " 329,\n",
       " 329,\n",
       " 329,\n",
       " 329,\n",
       " 329,\n",
       " 330]"
      ]
     },
     "execution_count": 45,
     "metadata": {},
     "output_type": "execute_result"
    }
   ],
   "source": [
    "ophys_experiment_id=570080979\n",
    "dataset = boc.get_ophys_experiment_data(ophys_experiment_id=ophys_experiment_id)\n",
    "dataset.get_stimulus_table(stimulus_name='natural_scenes').head()\n",
    "dataset.get_stimulus_table(stimulus_name='spontaneous').head()\n",
    "\n",
    "# toy = dataset.get_stimulus(frame_ind=28882)\n",
    "\n",
    "\n",
    "\n",
    "get_ns_frame_from_timestamp(boc,ophys_experiment_id, timestamps)\n",
    "\n"
   ]
  },
  {
   "cell_type": "code",
   "execution_count": 43,
   "metadata": {},
   "outputs": [
    {
     "ename": "TypeError",
     "evalue": "'NoneType' object has no attribute '__getitem__'",
     "output_type": "error",
     "traceback": [
      "\u001b[0;31m---------------------------------------------------------------------------\u001b[0m",
      "\u001b[0;31mTypeError\u001b[0m                                 Traceback (most recent call last)",
      "\u001b[0;32m<ipython-input-43-ddb2f9ee2b5c>\u001b[0m in \u001b[0;36m<module>\u001b[0;34m()\u001b[0m\n\u001b[1;32m      1\u001b[0m \u001b[0mtoy\u001b[0m \u001b[0;34m=\u001b[0m \u001b[0mdataset\u001b[0m\u001b[0;34m.\u001b[0m\u001b[0mget_stimulus\u001b[0m\u001b[0;34m(\u001b[0m\u001b[0mframe_ind\u001b[0m\u001b[0;34m=\u001b[0m\u001b[0;36m11393\u001b[0m\u001b[0;34m)\u001b[0m\u001b[0;34m\u001b[0m\u001b[0m\n\u001b[0;32m----> 2\u001b[0;31m \u001b[0mtoy\u001b[0m\u001b[0;34m[\u001b[0m\u001b[0;36m1\u001b[0m\u001b[0;34m]\u001b[0m\u001b[0;34m[\u001b[0m\u001b[0;34m'stimulus'\u001b[0m\u001b[0;34m]\u001b[0m\u001b[0;34m\u001b[0m\u001b[0m\n\u001b[0m",
      "\u001b[0;31mTypeError\u001b[0m: 'NoneType' object has no attribute '__getitem__'"
     ]
    }
   ],
   "source": [
    "toy = dataset.get_stimulus(frame_ind=11393)\n",
    "toy[1]['stimulus']"
   ]
  },
  {
   "cell_type": "code",
   "execution_count": null,
   "metadata": {
    "collapsed": true
   },
   "outputs": [],
   "source": [
    "[11386 11387 11388 11389 11390 11391 11392 11393 11394 11395 11396 11397\n",
    "11398 11399 11400 11401 11402 11403 11405 11450 11451 11452 11456 11458\n",
    "17671 17672 18497 18498 18499 18500 18515 18516 18518 18519 18610 18611\n",
    "18612 18613 18614 18615 21045 21046 21047 28227 28229 28881 28882 28884\n",
    "28885 38841 38842 38843 38844 38845 38846 38849]"
   ]
  },
  {
   "cell_type": "code",
   "execution_count": null,
   "metadata": {},
   "outputs": [],
   "source": [
    "a = [1,2,3,4,5,6,7,8,9,10]\n",
    "\n",
    "x = np.array(a) >= 3\n",
    "y = np.array(a) < 5\n",
    "\n",
    "[a and b for a, b in zip(x, y)]\n",
    "\n"
   ]
  }
 ],
 "metadata": {
  "kernelspec": {
   "display_name": "Python [default]",
   "language": "python",
   "name": "python2"
  },
  "language_info": {
   "codemirror_mode": {
    "name": "ipython",
    "version": 2
   },
   "file_extension": ".py",
   "mimetype": "text/x-python",
   "name": "python",
   "nbconvert_exporter": "python",
   "pygments_lexer": "ipython2",
   "version": "2.7.13"
  }
 },
 "nbformat": 4,
 "nbformat_minor": 2
}
