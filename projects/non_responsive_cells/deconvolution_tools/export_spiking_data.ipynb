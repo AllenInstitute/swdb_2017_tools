{
 "cells": [
  {
   "cell_type": "code",
   "execution_count": 1,
   "metadata": {
    "collapsed": true
   },
   "outputs": [],
   "source": [
    "#Import Modules\n",
    "import os\n",
    "import deconvolution_tools as dt\n",
    "import numpy as np\n",
    "import pandas as pd\n",
    "import pickle\n",
    "\n",
    "%matplotlib inline\n"
   ]
  },
  {
   "cell_type": "code",
   "execution_count": 2,
   "metadata": {},
   "outputs": [
    {
     "name": "stdout",
     "output_type": "stream",
     "text": [
      "[u'Cux2-CreERT2', u'Emx1-IRES-Cre', u'Nr5a1-Cre', u'Rbp4-Cre_KL100', u'Rorb-IRES2-Cre', u'Scnn1a-Tg3-Cre']\n",
      "[u'VISal', u'VISam', u'VISl', u'VISp', u'VISpm', u'VISrl']\n"
     ]
    }
   ],
   "source": [
    "drive_path = '/Volumes/Brain2017/data/dynamic-brain-workshop/brain_observatory_cache/'\n",
    "\n",
    "from allensdk.core.brain_observatory_cache import BrainObservatoryCache\n",
    "manifest_file = os.path.join(drive_path,'brain_observatory_manifest.json')\n",
    "boc = BrainObservatoryCache(manifest_file=manifest_file)\n",
    "\n",
    "print boc.get_all_cre_lines()\n",
    "print boc.get_all_targeted_structures()"
   ]
  },
  {
   "cell_type": "code",
   "execution_count": 3,
   "metadata": {
    "collapsed": true
   },
   "outputs": [],
   "source": [
    "def save_spiking_data(boc,ophys_experiment_id, session_type, export_path):\n",
    "    \n",
    "    dataset = boc.get_ophys_experiment_data(ophys_experiment_id=ophys_experiment_id)\n",
    "    spikes, timestamps, spike_times, isis = dt.get_epoch_spiking_data(boc=boc,ophys_experiment_id=ophys_experiment_id,num_std=5)\n",
    "    print 'Collected spike data for ' + str(ophys_experiment_id)\n",
    "    metadata = dataset.get_metadata()\n",
    "    \n",
    "    cre_line = metadata['cre_line'].split('-')[0]\n",
    "    structure = metadata['targeted_structure']\n",
    "    \n",
    "    \n",
    "    filename = export_path + structure + '_' + cre_line + '_'+ session_type + '_' + str(ophys_experiment_id) + '.p'\n",
    "    \n",
    "    \n",
    "    with open(filename, 'w') as f:  # Python 3: open(..., 'wb')\n",
    "        pickle.dump([timestamps, spike_times, metadata] ,f)\n",
    "    print 'Saved ' + filename\n"
   ]
  },
  {
   "cell_type": "code",
   "execution_count": 6,
   "metadata": {
    "scrolled": true
   },
   "outputs": [
    {
     "name": "stdout",
     "output_type": "stream",
     "text": [
      "Total Number of Experiments: 16\n",
      "Collected spike data for 580124131\n",
      "Saved /Volumes/Brain2017/spike_time_data/VISrl_Rbp4_B_580124131.p\n",
      "Collected spike data for 570909395\n",
      "Saved /Volumes/Brain2017/spike_time_data/VISrl_Nr5a1_B_570909395.p\n",
      "Collected spike data for 570059563\n",
      "Saved /Volumes/Brain2017/spike_time_data/VISrl_Rorb_B_570059563.p\n",
      "Collected spike data for 574685634\n",
      "Saved /Volumes/Brain2017/spike_time_data/VISrl_Emx1_B_574685634.p\n",
      "Collected spike data for 579966129\n",
      "Saved /Volumes/Brain2017/spike_time_data/VISrl_Emx1_B_579966129.p\n",
      "Collected spike data for 577313742\n",
      "Saved /Volumes/Brain2017/spike_time_data/VISrl_Emx1_B_577313742.p\n",
      "Collected spike data for 560563735\n",
      "Saved /Volumes/Brain2017/spike_time_data/VISrl_Nr5a1_B_560563735.p\n",
      "Collected spike data for 569722788\n",
      "Saved /Volumes/Brain2017/spike_time_data/VISrl_Cux2_B_569722788.p\n",
      "Collected spike data for 573864650\n",
      "Saved /Volumes/Brain2017/spike_time_data/VISrl_Emx1_B_573864650.p\n",
      "Collected spike data for 562222842\n",
      "Saved /Volumes/Brain2017/spike_time_data/VISrl_Nr5a1_B_562222842.p\n",
      "Collected spike data for 571418966\n",
      "Saved /Volumes/Brain2017/spike_time_data/VISrl_Nr5a1_B_571418966.p\n",
      "Collected spike data for 570080979\n",
      "Saved /Volumes/Brain2017/spike_time_data/VISrl_Cux2_B_570080979.p\n",
      "Collected spike data for 554021353\n",
      "Saved /Volumes/Brain2017/spike_time_data/VISrl_Rorb_B_554021353.p\n",
      "Collected spike data for 578220711\n",
      "Saved /Volumes/Brain2017/spike_time_data/VISrl_Emx1_B_578220711.p\n",
      "Collected spike data for 572489757\n",
      "Saved /Volumes/Brain2017/spike_time_data/VISrl_Cux2_B_572489757.p\n",
      "Collected spike data for 580878455\n",
      "Saved /Volumes/Brain2017/spike_time_data/VISrl_Emx1_B_580878455.p\n"
     ]
    }
   ],
   "source": [
    "export_path = '/Volumes/Brain2017/spike_time_data/'\n",
    "session_type = 'B'\n",
    "\n",
    "exp_df = pd.DataFrame(boc.get_ophys_experiments(targeted_structures=['VISrl']))\n",
    "exp_id_list = exp_df[exp_df.session_type == 'three_session_'+session_type]['id'].tolist()\n",
    "\n",
    "\n",
    "print 'Total Number of Experiments: ' + str(len(exp_id_list))\n",
    "\n",
    "for ophys_experiment_id in exp_id_list:\n",
    "    save_spiking_data(boc,ophys_experiment_id = ophys_experiment_id, session_type = session_type, export_path = export_path)\n",
    "    "
   ]
  },
  {
   "cell_type": "code",
   "execution_count": 8,
   "metadata": {
    "collapsed": true
   },
   "outputs": [],
   "source": [
    "a = pickle.load(open( \"/Volumes/Brain2017/spike_time_data/VISrl_Rbp4_B_580124131.p\", \"rb\" ) )\n",
    "\n"
   ]
  },
  {
   "cell_type": "code",
   "execution_count": null,
   "metadata": {
    "collapsed": true
   },
   "outputs": [],
   "source": []
  },
  {
   "cell_type": "code",
   "execution_count": 10,
   "metadata": {},
   "outputs": [
    {
     "data": {
      "text/plain": [
       "{u'natural_movie_one': array([ 2348.75792,  2348.79109,  2348.82427, ...,  2648.92378,\n",
       "         2648.95695,  2648.99013]),\n",
       " u'natural_scenes': array([ 2679.07985,  2679.11303,  2679.1462 , ...,  3206.86525,\n",
       "         3206.89843,  3206.9316 ]),\n",
       " u'spontaneous': array([ 1032.38155,  1032.41472,  1032.4479 , ...,  1327.52546,\n",
       "         1327.55863,  1327.59181]),\n",
       " u'static_gratings': array([ 3249.56217,  3249.59535,  3249.62853, ...,  3789.86334,\n",
       "         3789.89652,  3789.92969])}"
      ]
     },
     "execution_count": 10,
     "metadata": {},
     "output_type": "execute_result"
    }
   ],
   "source": [
    "a[0]"
   ]
  }
 ],
 "metadata": {
  "kernelspec": {
   "display_name": "Python [default]",
   "language": "python",
   "name": "python2"
  },
  "language_info": {
   "codemirror_mode": {
    "name": "ipython",
    "version": 2
   },
   "file_extension": ".py",
   "mimetype": "text/x-python",
   "name": "python",
   "nbconvert_exporter": "python",
   "pygments_lexer": "ipython2",
   "version": "2.7.13"
  }
 },
 "nbformat": 4,
 "nbformat_minor": 2
}
