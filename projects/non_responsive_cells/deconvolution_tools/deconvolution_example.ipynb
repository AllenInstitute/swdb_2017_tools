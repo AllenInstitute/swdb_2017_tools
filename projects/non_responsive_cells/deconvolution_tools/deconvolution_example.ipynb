{
 "cells": [
  {
   "cell_type": "code",
   "execution_count": 1,
   "metadata": {
    "collapsed": true
   },
   "outputs": [],
   "source": [
    "#Import Modules\n",
    "import os\n",
    "import deconvolution_tools as dt\n",
    "import numpy as np\n",
    "import pandas as pd\n",
    "\n",
    "%matplotlib inline\n"
   ]
  },
  {
   "cell_type": "code",
   "execution_count": 2,
   "metadata": {},
   "outputs": [
    {
     "name": "stdout",
     "output_type": "stream",
     "text": [
      "[u'Cux2-CreERT2', u'Emx1-IRES-Cre', u'Nr5a1-Cre', u'Rbp4-Cre_KL100', u'Rorb-IRES2-Cre', u'Scnn1a-Tg3-Cre']\n",
      "[u'VISal', u'VISam', u'VISl', u'VISp', u'VISpm', u'VISrl']\n"
     ]
    }
   ],
   "source": [
    "drive_path = '/Volumes/Brain2017/data/dynamic-brain-workshop/brain_observatory_cache/'\n",
    "\n",
    "from allensdk.core.brain_observatory_cache import BrainObservatoryCache\n",
    "manifest_file = os.path.join(drive_path,'brain_observatory_manifest.json')\n",
    "boc = BrainObservatoryCache(manifest_file=manifest_file)\n",
    "\n",
    "print boc.get_all_cre_lines()\n",
    "print boc.get_all_targeted_structures()"
   ]
  },
  {
   "cell_type": "code",
   "execution_count": null,
   "metadata": {},
   "outputs": [],
   "source": [
    "pd.DataFrame(boc.get_experiment_containers(cre_lines=['Emx1-IRES-Cre'], targeted_structures=['VISp']))"
   ]
  },
  {
   "cell_type": "code",
   "execution_count": null,
   "metadata": {},
   "outputs": [],
   "source": [
    "pd.DataFrame(boc.get_ophys_experiments(experiment_container_ids=[545578995]))"
   ]
  },
  {
   "cell_type": "code",
   "execution_count": 3,
   "metadata": {
    "collapsed": true
   },
   "outputs": [],
   "source": [
    "ophys_experiment_id = 546341286 #example experiment\n",
    "\n",
    "dataset = boc.get_ophys_experiment_data(ophys_experiment_id)"
   ]
  },
  {
   "cell_type": "code",
   "execution_count": null,
   "metadata": {},
   "outputs": [],
   "source": [
    "#Use dt.get_dff to get all dff traces and timestamps\n",
    "dff_traces, timestamps, cell_specimen_ids = dt.get_dff(boc=boc, ophys_experiment_id=ophys_experiment_id)\n",
    "\n",
    "#Check that the shape makes sense\n",
    "print dff_traces.shape\n",
    "print timestamps.shape"
   ]
  },
  {
   "cell_type": "code",
   "execution_count": null,
   "metadata": {},
   "outputs": [],
   "source": [
    "#Use get_spiking_data to use the Oasis deconvolution algorithm\n",
    "\n",
    "spikes, spike_times, isis = dt.get_spiking_data(dff_traces=dff_traces, timestamps=timestamps, cell_specimen_ids=cell_specimen_ids,num_std=3)\n",
    "dt.plot_raster(spike_times, title=ophys_experiment_id)\n",
    "\n",
    "keys = spike_times.keys()\n",
    "print keys[0]\n",
    "np.sum(spike_times[keys[0]])\n"
   ]
  },
  {
   "cell_type": "code",
   "execution_count": null,
   "metadata": {
    "scrolled": true
   },
   "outputs": [],
   "source": [
    "#Use get_spiking_data to use the Oasis deconvolution algorithm\n",
    "\n",
    "spikes, spike_times, isis = dt.get_spiking_data(dff_traces=dff_traces, timestamps=timestamps, cell_specimen_ids=cell_specimen_ids,num_std=5)\n",
    "dt.plot_raster(spike_times, title=ophys_experiment_id)\n",
    "\n",
    "keys = spike_times.keys()\n",
    "print keys[0]\n",
    "np.sum(spike_times[keys[0]])"
   ]
  },
  {
   "cell_type": "code",
   "execution_count": null,
   "metadata": {
    "collapsed": true,
    "scrolled": true
   },
   "outputs": [],
   "source": [
    "#Plot the spike times in a raster plot\n",
    "\n"
   ]
  },
  {
   "cell_type": "code",
   "execution_count": 4,
   "metadata": {},
   "outputs": [
    {
     "name": "stderr",
     "output_type": "stream",
     "text": [
      "/Users/perryspratt/anaconda/lib/python2.7/site-packages/OASIS/functions.py:15: UserWarning: Could not find cvxpy. Don't worry, you can still use OASIS, just not the slower interior point methods we compared to in the papers.\n",
      "  \"just not the slower interior point methods we compared to in the papers.\")\n"
     ]
    }
   ],
   "source": [
    "spikes, timestamps, spike_times, isis = dt.get_epoch_spiking_data(boc, ophys_experiment_id,num_std=5)\n",
    "\n",
    "\n"
   ]
  },
  {
   "cell_type": "code",
   "execution_count": 8,
   "metadata": {},
   "outputs": [
    {
     "data": {
      "text/plain": [
       "array([ 2573.04191,  2573.07516,  2573.10842, ...,  2873.16939,\n",
       "        2873.20264,  2873.2359 ])"
      ]
     },
     "execution_count": 8,
     "metadata": {},
     "output_type": "execute_result"
    }
   ],
   "source": [
    "timestamps['natural_movie_two']"
   ]
  },
  {
   "cell_type": "code",
   "execution_count": null,
   "metadata": {},
   "outputs": [],
   "source": [
    "for stim, spike_time_data in spike_times.iteritems():\n",
    "    dt.plot_raster(spike_time_data, title=stim)"
   ]
  }
 ],
 "metadata": {
  "kernelspec": {
   "display_name": "Python [default]",
   "language": "python",
   "name": "python2"
  },
  "language_info": {
   "codemirror_mode": {
    "name": "ipython",
    "version": 2
   },
   "file_extension": ".py",
   "mimetype": "text/x-python",
   "name": "python",
   "nbconvert_exporter": "python",
   "pygments_lexer": "ipython2",
   "version": "2.7.13"
  }
 },
 "nbformat": 4,
 "nbformat_minor": 2
}
