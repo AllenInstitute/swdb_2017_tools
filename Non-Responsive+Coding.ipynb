{
 "cells": [
  {
   "cell_type": "markdown",
   "metadata": {},
   "source": [
    "## Non-Responsive Coding"
   ]
  },
  {
   "cell_type": "markdown",
   "metadata": {},
   "source": [
    "Evironment Set-up"
   ]
  },
  {
   "cell_type": "code",
   "execution_count": 1,
   "metadata": {
    "collapsed": true
   },
   "outputs": [],
   "source": [
    "# AWS\n",
    "drive_path = '/data/dynamic-brain-workshop/brain_observatory_cache/'"
   ]
  },
  {
   "cell_type": "code",
   "execution_count": 2,
   "metadata": {
    "collapsed": true
   },
   "outputs": [],
   "source": [
    "# We need to import these modules to get started\n",
    "import numpy as np\n",
    "import pandas as pd\n",
    "import os\n",
    "import sys\n",
    "import h5py\n",
    "\n",
    "import matplotlib.pyplot as plt\n",
    "%matplotlib inline"
   ]
  },
  {
   "cell_type": "code",
   "execution_count": 3,
   "metadata": {},
   "outputs": [
    {
     "name": "stdout",
     "output_type": "stream",
     "text": [
      "/data/dynamic-brain-workshop/brain_observatory_cache/brain_observatory_manifest.json\n"
     ]
    }
   ],
   "source": [
    "from allensdk.core.brain_observatory_cache import BrainObservatoryCache\n",
    "\n",
    "manifest_file = os.path.join(drive_path,'brain_observatory_manifest.json')\n",
    "print manifest_file\n",
    "\n",
    "boc = BrainObservatoryCache(manifest_file=manifest_file)"
   ]
  },
  {
   "cell_type": "code",
   "execution_count": 4,
   "metadata": {},
   "outputs": [
    {
     "name": "stdout",
     "output_type": "stream",
     "text": [
      "all targeted structures: [u'VISal', u'VISam', u'VISl', u'VISp', u'VISpm', u'VISrl']\n",
      "all stimuli: ['drifting_gratings', 'locally_sparse_noise', 'locally_sparse_noise_4deg', 'locally_sparse_noise_8deg', 'natural_movie_one', 'natural_movie_three', 'natural_movie_two', 'natural_scenes', 'spontaneous', 'static_gratings']\n"
     ]
    }
   ],
   "source": [
    "# Download a list of all targeted areas\n",
    "targeted_structures = boc.get_all_targeted_structures()\n",
    "print 'all targeted structures: ' + str(targeted_structures)\n",
    "# Download a list of all stimuli\n",
    "stims = boc.get_all_stimuli()\n",
    "print 'all stimuli: ' + str(stims)"
   ]
  },
  {
   "cell_type": "code",
   "execution_count": 5,
   "metadata": {},
   "outputs": [
    {
     "name": "stdout",
     "output_type": "stream",
     "text": [
      "{'Nr5a1-Cre': 'Layer 4', 'Cux2-CreERT2': 'Layer 2,3 & 4', 'Scnn1a-Tg3-Cre': 'Layer 4', 'Rbp4-Cre_KL100': 'Layer 5', 'Rorb-IRES2-Cre': 'Layer 4', 'Emx1-IRES-Cre': 'Pan excitatory expression'}\n",
      "['Nr5a1-Cre', 'Cux2-CreERT2', 'Scnn1a-Tg3-Cre', 'Rbp4-Cre_KL100', 'Rorb-IRES2-Cre', 'Emx1-IRES-Cre']\n"
     ]
    }
   ],
   "source": [
    "# Create a dictionary depicting Cre lines\n",
    "cre_to_layer={} #dic of cre line paired with layer of expression\n",
    "cre_to_layer['Cux2-CreERT2']='Layer 2,3 & 4'\n",
    "cre_to_layer['Emx1-IRES-Cre']='Pan excitatory expression'\n",
    "cre_to_layer['Nr5a1-Cre']='Layer 4'\n",
    "cre_to_layer['Rbp4-Cre_KL100']='Layer 5'\n",
    "cre_to_layer['Rorb-IRES2-Cre']='Layer 4'\n",
    "cre_to_layer['Scnn1a-Tg3-Cre']='Layer 4'\n",
    "print(cre_to_layer)\n",
    "cre_lines=cre_to_layer.keys()\n",
    "print(cre_lines)"
   ]
  },
  {
   "cell_type": "code",
   "execution_count": 6,
   "metadata": {},
   "outputs": [
    {
     "name": "stdout",
     "output_type": "stream",
     "text": [
      "{'435': 'Layer 5', '300': 'Layer 3', '350': 'Layer 4', '335': 'Layer 4', '320': 'Layer 4', '275': 'Layer 2/3', '265': 'Layer 2/3', '325': 'Layer 4', '175': 'Layer 2/3', '365': 'Layer 4', '375': 'Layer 5'}\n"
     ]
    }
   ],
   "source": [
    "# layer at different imaging depths varies per animal\n",
    "# Dictionary below creates an approximate imaging depth to cortical layer # conversion\n",
    "\n",
    "depth_to_layer={} #dic translating imaging depth to lahyer\n",
    "depth_to_layer['175']='Layer 2/3'\n",
    "depth_to_layer['265']='Layer 2/3'\n",
    "depth_to_layer['275']='Layer 2/3'\n",
    "depth_to_layer['300']='Layer 3'\n",
    "depth_to_layer['320']='Layer 4'\n",
    "depth_to_layer['325']='Layer 4'\n",
    "depth_to_layer['335']='Layer 4'\n",
    "depth_to_layer['350']='Layer 4'\n",
    "depth_to_layer['365']='Layer 4'\n",
    "depth_to_layer['375']='Layer 5'\n",
    "depth_to_layer['435']='Layer 5'\n",
    "print(depth_to_layer)"
   ]
  },
  {
   "cell_type": "markdown",
   "metadata": {},
   "source": [
    "## Import Data from Visual Area and Cre-Line"
   ]
  },
  {
   "cell_type": "code",
   "execution_count": 7,
   "metadata": {},
   "outputs": [
    {
     "data": {
      "text/html": [
       "<div>\n",
       "<table border=\"1\" class=\"dataframe\">\n",
       "  <thead>\n",
       "    <tr style=\"text-align: right;\">\n",
       "      <th></th>\n",
       "      <th>cre_line</th>\n",
       "      <th>donor_name</th>\n",
       "      <th>failed</th>\n",
       "      <th>id</th>\n",
       "      <th>imaging_depth</th>\n",
       "      <th>reporter_line</th>\n",
       "      <th>specimen_name</th>\n",
       "      <th>tags</th>\n",
       "      <th>targeted_structure</th>\n",
       "    </tr>\n",
       "  </thead>\n",
       "  <tbody>\n",
       "    <tr>\n",
       "      <th>0</th>\n",
       "      <td>Rbp4-Cre_KL100</td>\n",
       "      <td>271750</td>\n",
       "      <td>False</td>\n",
       "      <td>555040113</td>\n",
       "      <td>375</td>\n",
       "      <td>Ai93(TITL-GCaMP6f)</td>\n",
       "      <td>Rbp4-Cre;Camk2a-tTA;Ai93-271750</td>\n",
       "      <td>[]</td>\n",
       "      <td>VISp</td>\n",
       "    </tr>\n",
       "    <tr>\n",
       "      <th>1</th>\n",
       "      <td>Rbp4-Cre_KL100</td>\n",
       "      <td>233442</td>\n",
       "      <td>False</td>\n",
       "      <td>511510758</td>\n",
       "      <td>375</td>\n",
       "      <td>Ai93(TITL-GCaMP6f)</td>\n",
       "      <td>Rbp4-Cre;Camk2a-tTA;Ai93-233442</td>\n",
       "      <td>[]</td>\n",
       "      <td>VISp</td>\n",
       "    </tr>\n",
       "    <tr>\n",
       "      <th>2</th>\n",
       "      <td>Rbp4-Cre_KL100</td>\n",
       "      <td>249136</td>\n",
       "      <td>False</td>\n",
       "      <td>529770662</td>\n",
       "      <td>375</td>\n",
       "      <td>Ai93(TITL-GCaMP6f)</td>\n",
       "      <td>Rbp4-Cre;Camk2a-tTA;Ai93-249136</td>\n",
       "      <td>[]</td>\n",
       "      <td>VISp</td>\n",
       "    </tr>\n",
       "    <tr>\n",
       "      <th>3</th>\n",
       "      <td>Rbp4-Cre_KL100</td>\n",
       "      <td>226219</td>\n",
       "      <td>False</td>\n",
       "      <td>511510896</td>\n",
       "      <td>375</td>\n",
       "      <td>Ai93(TITL-GCaMP6f)</td>\n",
       "      <td>Rbp4-Cre;Camk2a-tTA;Ai93-226219</td>\n",
       "      <td>[]</td>\n",
       "      <td>VISp</td>\n",
       "    </tr>\n",
       "    <tr>\n",
       "      <th>4</th>\n",
       "      <td>Rbp4-Cre_KL100</td>\n",
       "      <td>288600</td>\n",
       "      <td>False</td>\n",
       "      <td>571137444</td>\n",
       "      <td>375</td>\n",
       "      <td>Ai93(TITL-GCaMP6f)</td>\n",
       "      <td>Rbp4-Cre;Camk2a-tTA;Ai93-288600</td>\n",
       "      <td>[]</td>\n",
       "      <td>VISp</td>\n",
       "    </tr>\n",
       "  </tbody>\n",
       "</table>\n",
       "</div>"
      ],
      "text/plain": [
       "         cre_line donor_name failed         id  imaging_depth  \\\n",
       "0  Rbp4-Cre_KL100     271750  False  555040113            375   \n",
       "1  Rbp4-Cre_KL100     233442  False  511510758            375   \n",
       "2  Rbp4-Cre_KL100     249136  False  529770662            375   \n",
       "3  Rbp4-Cre_KL100     226219  False  511510896            375   \n",
       "4  Rbp4-Cre_KL100     288600  False  571137444            375   \n",
       "\n",
       "        reporter_line                    specimen_name tags targeted_structure  \n",
       "0  Ai93(TITL-GCaMP6f)  Rbp4-Cre;Camk2a-tTA;Ai93-271750   []               VISp  \n",
       "1  Ai93(TITL-GCaMP6f)  Rbp4-Cre;Camk2a-tTA;Ai93-233442   []               VISp  \n",
       "2  Ai93(TITL-GCaMP6f)  Rbp4-Cre;Camk2a-tTA;Ai93-249136   []               VISp  \n",
       "3  Ai93(TITL-GCaMP6f)  Rbp4-Cre;Camk2a-tTA;Ai93-226219   []               VISp  \n",
       "4  Ai93(TITL-GCaMP6f)  Rbp4-Cre;Camk2a-tTA;Ai93-288600   []               VISp  "
      ]
     },
     "execution_count": 7,
     "metadata": {},
     "output_type": "execute_result"
    }
   ],
   "source": [
    "# Choose a visual area and Cre-line to being\n",
    "visual_area = 'VISp'\n",
    "cre_line ='Rbp4-Cre_KL100'\n",
    "\n",
    "# Import data from targeted area and Cre-line\n",
    "exps = boc.get_experiment_containers(targeted_structures=[visual_area], cre_lines=[cre_line])\n",
    "\n",
    "#Create Data Frame\n",
    "pd.DataFrame(exps)"
   ]
  },
  {
   "cell_type": "code",
   "execution_count": 8,
   "metadata": {
    "collapsed": true
   },
   "outputs": [],
   "source": [
    "# Donor name is id linked to mouse\n",
    "# Choose an experiment from 'id' column to begin\n",
    "expt_container_id=555040113"
   ]
  },
  {
   "cell_type": "code",
   "execution_count": 9,
   "metadata": {},
   "outputs": [
    {
     "name": "stdout",
     "output_type": "stream",
     "text": [
      "[{'imaging_depth': 375, 'experiment_container_id': 555040113, 'reporter_line': u'Ai93(TITL-GCaMP6f)', 'targeted_structure': u'VISp', 'cre_line': u'Rbp4-Cre_KL100', 'session_type': u'three_session_B', 'donor_name': u'271750', 'id': 559082739, 'acquisition_age_days': 118, 'specimen_name': u'Rbp4-Cre;Camk2a-tTA;Ai93-271750'}, {'imaging_depth': 375, 'experiment_container_id': 555040113, 'reporter_line': u'Ai93(TITL-GCaMP6f)', 'targeted_structure': u'VISp', 'cre_line': u'Rbp4-Cre_KL100', 'session_type': u'three_session_C2', 'donor_name': u'271750', 'id': 558581038, 'acquisition_age_days': 114, 'specimen_name': u'Rbp4-Cre;Camk2a-tTA;Ai93-271750'}, {'imaging_depth': 375, 'experiment_container_id': 555040113, 'reporter_line': u'Ai93(TITL-GCaMP6f)', 'targeted_structure': u'VISp', 'cre_line': u'Rbp4-Cre_KL100', 'session_type': u'three_session_A', 'donor_name': u'271750', 'id': 559192380, 'acquisition_age_days': 119, 'specimen_name': u'Rbp4-Cre;Camk2a-tTA;Ai93-271750'}]\n"
     ]
    }
   ],
   "source": [
    "# Get information from experimental session for id from id container\n",
    "expt_session_info = boc.get_ophys_experiments(experiment_container_ids=[expt_container_id])\n",
    "\n",
    "# This returns a list of dictionaries with information regarding experimental sessions of our specified exp container\n",
    "print(expt_session_info)\n",
    "\n",
    "# There are three sessions in every container that correspond to the 3 1 hr imaging session types"
   ]
  },
  {
   "cell_type": "code",
   "execution_count": 10,
   "metadata": {},
   "outputs": [
    {
     "data": {
      "text/html": [
       "<div>\n",
       "<table border=\"1\" class=\"dataframe\">\n",
       "  <thead>\n",
       "    <tr style=\"text-align: right;\">\n",
       "      <th></th>\n",
       "      <th>acquisition_age_days</th>\n",
       "      <th>cre_line</th>\n",
       "      <th>donor_name</th>\n",
       "      <th>experiment_container_id</th>\n",
       "      <th>id</th>\n",
       "      <th>imaging_depth</th>\n",
       "      <th>reporter_line</th>\n",
       "      <th>session_type</th>\n",
       "      <th>specimen_name</th>\n",
       "      <th>targeted_structure</th>\n",
       "    </tr>\n",
       "  </thead>\n",
       "  <tbody>\n",
       "    <tr>\n",
       "      <th>0</th>\n",
       "      <td>118</td>\n",
       "      <td>Rbp4-Cre_KL100</td>\n",
       "      <td>271750</td>\n",
       "      <td>555040113</td>\n",
       "      <td>559082739</td>\n",
       "      <td>375</td>\n",
       "      <td>Ai93(TITL-GCaMP6f)</td>\n",
       "      <td>three_session_B</td>\n",
       "      <td>Rbp4-Cre;Camk2a-tTA;Ai93-271750</td>\n",
       "      <td>VISp</td>\n",
       "    </tr>\n",
       "    <tr>\n",
       "      <th>1</th>\n",
       "      <td>114</td>\n",
       "      <td>Rbp4-Cre_KL100</td>\n",
       "      <td>271750</td>\n",
       "      <td>555040113</td>\n",
       "      <td>558581038</td>\n",
       "      <td>375</td>\n",
       "      <td>Ai93(TITL-GCaMP6f)</td>\n",
       "      <td>three_session_C2</td>\n",
       "      <td>Rbp4-Cre;Camk2a-tTA;Ai93-271750</td>\n",
       "      <td>VISp</td>\n",
       "    </tr>\n",
       "    <tr>\n",
       "      <th>2</th>\n",
       "      <td>119</td>\n",
       "      <td>Rbp4-Cre_KL100</td>\n",
       "      <td>271750</td>\n",
       "      <td>555040113</td>\n",
       "      <td>559192380</td>\n",
       "      <td>375</td>\n",
       "      <td>Ai93(TITL-GCaMP6f)</td>\n",
       "      <td>three_session_A</td>\n",
       "      <td>Rbp4-Cre;Camk2a-tTA;Ai93-271750</td>\n",
       "      <td>VISp</td>\n",
       "    </tr>\n",
       "  </tbody>\n",
       "</table>\n",
       "</div>"
      ],
      "text/plain": [
       "   acquisition_age_days        cre_line donor_name  experiment_container_id  \\\n",
       "0                   118  Rbp4-Cre_KL100     271750                555040113   \n",
       "1                   114  Rbp4-Cre_KL100     271750                555040113   \n",
       "2                   119  Rbp4-Cre_KL100     271750                555040113   \n",
       "\n",
       "          id  imaging_depth       reporter_line      session_type  \\\n",
       "0  559082739            375  Ai93(TITL-GCaMP6f)   three_session_B   \n",
       "1  558581038            375  Ai93(TITL-GCaMP6f)  three_session_C2   \n",
       "2  559192380            375  Ai93(TITL-GCaMP6f)   three_session_A   \n",
       "\n",
       "                     specimen_name targeted_structure  \n",
       "0  Rbp4-Cre;Camk2a-tTA;Ai93-271750               VISp  \n",
       "1  Rbp4-Cre;Camk2a-tTA;Ai93-271750               VISp  \n",
       "2  Rbp4-Cre;Camk2a-tTA;Ai93-271750               VISp  "
      ]
     },
     "execution_count": 10,
     "metadata": {},
     "output_type": "execute_result"
    }
   ],
   "source": [
    "# Create Data Frame of experimental sessions in your container\n",
    "expt_session_info_df = pd.DataFrame(expt_session_info) #create pd dataframe so can look at each diff session from each expt\n",
    "expt_session_info_df"
   ]
  },
  {
   "cell_type": "code",
   "execution_count": 11,
   "metadata": {},
   "outputs": [
    {
     "name": "stdout",
     "output_type": "stream",
     "text": [
      "{'session_id_A': 559192380, 'session_id_C': 558581038, 'session_id_B': 559082739}\n"
     ]
    }
   ],
   "source": [
    "# Create a dictionary with session id's for all conditions\n",
    "#First find id's for sessions A-C\n",
    "session_id_A=expt_session_info_df[expt_session_info_df.session_type=='three_session_A'].id.values[0]\n",
    "session_id_B=expt_session_info_df[expt_session_info_df.session_type=='three_session_B'].id.values[0]\n",
    "\n",
    "# Note session_id_C needs to be adjusted based on whether C2 or C session type\n",
    "session_id_C=expt_session_info_df[expt_session_info_df.session_type=='three_session_C2'].id.values[0]\n",
    "\n",
    "# Create Session Dictionary\n",
    "session_ids={'session_id_A':session_id_A, 'session_id_B':session_id_B, 'session_id_C':session_id_C}\n",
    "print(session_ids)"
   ]
  },
  {
   "cell_type": "code",
   "execution_count": 12,
   "metadata": {
    "collapsed": true
   },
   "outputs": [],
   "source": [
    "# Make a data_set object for each Session A-C\n",
    "data_set_A = boc.get_ophys_experiment_data(ophys_experiment_id=session_id_A)\n",
    "data_set_B = boc.get_ophys_experiment_data(ophys_experiment_id=session_id_B)\n",
    "data_set_C = boc.get_ophys_experiment_data(ophys_experiment_id=session_id_C)\n",
    "data_sets=[data_set_A, data_set_B, data_set_C]"
   ]
  },
  {
   "cell_type": "code",
   "execution_count": 13,
   "metadata": {},
   "outputs": [
    {
     "name": "stdout",
     "output_type": "stream",
     "text": [
      "{'imaging_depth_um': 375, 'fov': u'400x400 microns (512 x 512 pixels)', 'genotype': u'Rbp4-Cre_KL100/wt;Camk2a-tTA/wt;Ai93(TITL-GCaMP6f)/Ai93(TITL-GCaMP6f)', 'ophys_experiment_id': 559192380, 'session_type': u'three_session_A', 'specimen_name': u'Rbp4-Cre;Camk2a-tTA;Ai93-271750', 'pipeline_version': u'2.0', 'excitation_lambda': u'910 nanometers', 'indicator': u'GCaMP6f', 'sex': u'female', 'device': u'Nikon A1R-MP multiphoton microscope', 'experiment_container_id': 555040113, 'targeted_structure': u'VISp', 'cre_line': u'Rbp4-Cre_KL100/wt', 'device_name': u'CAM2P.5', 'age_days': 120, 'session_start_time': datetime.datetime(2016, 11, 22, 13, 26, 2)}\n",
      "{'imaging_depth_um': 375, 'fov': u'400x400 microns (512 x 512 pixels)', 'genotype': u'Rbp4-Cre_KL100/wt;Camk2a-tTA/wt;Ai93(TITL-GCaMP6f)/Ai93(TITL-GCaMP6f)', 'ophys_experiment_id': 559082739, 'session_type': u'three_session_B', 'specimen_name': u'Rbp4-Cre;Camk2a-tTA;Ai93-271750', 'pipeline_version': u'2.0', 'excitation_lambda': u'910 nanometers', 'indicator': u'GCaMP6f', 'sex': u'female', 'device': u'Nikon A1R-MP multiphoton microscope', 'experiment_container_id': 555040113, 'targeted_structure': u'VISp', 'cre_line': u'Rbp4-Cre_KL100/wt', 'device_name': u'CAM2P.5', 'age_days': 119, 'session_start_time': datetime.datetime(2016, 11, 21, 13, 36, 13)}\n",
      "{'imaging_depth_um': 375, 'fov': u'400x400 microns (512 x 512 pixels)', 'genotype': u'Rbp4-Cre_KL100/wt;Camk2a-tTA/wt;Ai93(TITL-GCaMP6f)/Ai93(TITL-GCaMP6f)', 'ophys_experiment_id': 558581038, 'session_type': u'three_session_C2', 'specimen_name': u'Rbp4-Cre;Camk2a-tTA;Ai93-271750', 'pipeline_version': u'2.0', 'excitation_lambda': u'910 nanometers', 'indicator': u'GCaMP6f', 'sex': u'female', 'device': u'Nikon A1R-MP multiphoton microscope', 'experiment_container_id': 555040113, 'targeted_structure': u'VISp', 'cre_line': u'Rbp4-Cre_KL100/wt', 'device_name': u'CAM2P.5', 'age_days': 115, 'session_start_time': datetime.datetime(2016, 11, 17, 11, 31, 13)}\n"
     ]
    }
   ],
   "source": [
    "# Get the metadata for Sessions A-C\n",
    "mdA = data_set_A.get_metadata()\n",
    "mdB = data_set_B.get_metadata()\n",
    "mdC = data_set_C.get_metadata()\n",
    "print (mdA)\n",
    "print (mdB)\n",
    "print (mdC)"
   ]
  },
  {
   "cell_type": "code",
   "execution_count": 14,
   "metadata": {
    "collapsed": true
   },
   "outputs": [],
   "source": [
    "#Get flourescene traces with neuropil correction\n",
    "A=data_set_A.get_dff_traces()\n",
    "B=data_set_B.get_dff_traces()\n",
    "C=data_set_C.get_dff_traces()"
   ]
  },
  {
   "cell_type": "code",
   "execution_count": 15,
   "metadata": {
    "collapsed": true
   },
   "outputs": [],
   "source": [
    "# Get timestamps by returning first part of tuple\n",
    "timestamps_A=A[0]\n",
    "timestamps_B=B[0]\n",
    "timestamps_C=C[0]"
   ]
  },
  {
   "cell_type": "code",
   "execution_count": 16,
   "metadata": {},
   "outputs": [
    {
     "name": "stdout",
     "output_type": "stream",
     "text": [
      "{'epoch_table_B': array([u'static_gratings', u'natural_scenes', u'spontaneous',\n",
      "       u'natural_movie_one'], dtype=object), 'epoch_table_C': array([u'locally_sparse_noise_4deg', u'locally_sparse_noise_8deg',\n",
      "       u'spontaneous', u'natural_movie_one', u'natural_movie_two'], dtype=object), 'epoch_table_A': array([u'drifting_gratings', u'natural_movie_three', u'natural_movie_one',\n",
      "       u'spontaneous'], dtype=object)}\n"
     ]
    }
   ],
   "source": [
    "# Get stimulus epoch table for each session\n",
    "epoch_table_A=data_set_A.get_stimulus_epoch_table()\n",
    "epoch_table_B=data_set_B.get_stimulus_epoch_table()\n",
    "epoch_table_C=data_set_C.get_stimulus_epoch_table()\n",
    "\n",
    "# Make a list of epoch tables\n",
    "epoch_tables={'epoch_table_A':epoch_table_A, 'epoch_table_B':epoch_table_B, 'epoch_table_C':epoch_table_C}\n",
    "\n",
    "# Make lists of epochs within each session\n",
    "epoch_A_list=epoch_table_A['stimulus'].unique()\n",
    "epoch_B_list=epoch_table_B['stimulus'].unique()\n",
    "epoch_C_list=epoch_table_C['stimulus'].unique()\n",
    "\n",
    "# Make a list of epoch lists\n",
    "epoch_lists=[epoch_A_list, epoch_B_list, epoch_C_list]\n",
    "\n",
    "# Create a dictionary pairing epoch table names with their lists table\n",
    "epoch_master={'epoch_table_A':epoch_A_list, 'epoch_table_B':epoch_B_list, 'epoch_table_C':epoch_C_list}\n",
    "print epoch_master"
   ]
  },
  {
   "cell_type": "code",
   "execution_count": 17,
   "metadata": {
    "collapsed": true
   },
   "outputs": [],
   "source": [
    "#Get deltaFF traces\n",
    "Ca_A=A[1]\n",
    "Ca_B=B[1]\n",
    "Ca_C=C[1]\n",
    "Ca_epoch_dict={'epoch_table_A':Ca_A, 'epoch_table_B':Ca_B, 'epoch_table_C':Ca_C}\n",
    "\n",
    "# Find length of rows of np.array to find number of cells in sessino\n",
    "cell_count=Ca_A.shape[0]"
   ]
  },
  {
   "cell_type": "code",
   "execution_count": 19,
   "metadata": {
    "scrolled": false
   },
   "outputs": [
    {
     "name": "stdout",
     "output_type": "stream",
     "text": [
      "{u'natural_movie_two': array([[ -4.52866033e-02,   2.99198873e-04,   2.55152863e-02, ...,\n",
      "         -1.79980940e-03,   9.79357064e-02,  -2.51380075e-02],\n",
      "       [  5.14194369e-01,   5.01828730e-01,   4.90821630e-01, ...,\n",
      "          5.04177064e-02,  -1.56130735e-03,  -3.14299241e-02],\n",
      "       [  3.58253896e-01,   5.87656796e-01,   5.66380322e-01, ...,\n",
      "         -1.00541469e-02,  -1.36154089e-02,  -1.26607874e-02],\n",
      "       ..., \n",
      "       [  1.00821406e-01,   8.68573934e-02,  -5.22539392e-02, ...,\n",
      "          3.97231206e-02,   7.38748237e-02,   1.92085579e-02],\n",
      "       [ -4.88526896e-02,  -4.17319909e-02,   2.76746750e-02, ...,\n",
      "          6.86801597e-03,  -3.12017743e-02,  -1.69812143e-02],\n",
      "       [  3.50699015e-02,  -3.40399728e-03,   7.04520717e-02, ...,\n",
      "         -1.04536153e-02,   6.18640557e-02,   6.28014132e-02]], dtype=float32), u'natural_movie_three': array([[-0.05679817,  0.03163213, -0.04042057, ..., -0.07149374,\n",
      "        -0.01731712, -0.02567374],\n",
      "       [-0.07234846, -0.03756365,  0.04175097, ...,  0.1208866 ,\n",
      "         0.02729015,  0.11564571],\n",
      "       [ 0.01826504,  0.00357103,  0.04040332, ...,  0.14052683,\n",
      "        -0.00826517,  0.04998602],\n",
      "       ..., \n",
      "       [-0.0275621 ,  0.02295492, -0.02043774, ..., -0.05569375,\n",
      "        -0.03662786,  0.00990177],\n",
      "       [-0.03709028, -0.02494763, -0.05812658, ...,  0.0010143 ,\n",
      "        -0.01814058,  0.04987342],\n",
      "       [-0.02503678,  0.00124   ,  0.09958798, ..., -0.06861073,\n",
      "         0.00730846, -0.04251082]], dtype=float32), u'locally_sparse_noise_8deg': array([[-0.06171986,  0.03830625,  0.12022269, ...,  0.01367909,\n",
      "         0.03120734,  0.03215872],\n",
      "       [-0.01021434,  0.06748826, -0.00125624, ..., -0.01325742,\n",
      "        -0.06577174,  0.04844046],\n",
      "       [ 0.00096833,  0.14689992,  0.1300662 , ...,  0.022531  ,\n",
      "         0.03360071, -0.02995843],\n",
      "       ..., \n",
      "       [-0.03789018,  0.07808717,  0.06116147, ...,  0.02292342,\n",
      "         0.07536741,  0.04418764],\n",
      "       [-0.01092217, -0.04791939, -0.03482899, ..., -0.01809663,\n",
      "         0.03704631,  0.09227572],\n",
      "       [ 0.06902166, -0.00965516, -0.00233599, ...,  0.0360781 ,\n",
      "        -0.02613092,  0.01276569]], dtype=float32), u'natural_movie_one': array([[ 0.02310126,  0.06240583, -0.02457538, ..., -0.00655192,\n",
      "        -0.02729676,  0.06609469],\n",
      "       [-0.08756523, -0.00936481,  0.03669991, ..., -0.08806136,\n",
      "         0.02795261,  0.05728865],\n",
      "       [-0.07306767, -0.01904966,  0.05469738, ..., -0.02139988,\n",
      "         0.00418072,  0.05404057],\n",
      "       ..., \n",
      "       [ 0.00649614, -0.01844598, -0.02059995, ..., -0.02552981,\n",
      "        -0.03633995, -0.00429541],\n",
      "       [-0.04080928, -0.02772656,  0.00842436, ..., -0.08759902,\n",
      "         0.05812835, -0.01506151],\n",
      "       [ 0.0607396 , -0.03887199, -0.03884081, ..., -0.02139024,\n",
      "         0.04794456,  0.0288699 ]], dtype=float32), u'drifting_gratings': array([[-0.04874583, -0.07994325, -0.0823807 , ...,  0.06721387,\n",
      "        -0.0404725 , -0.02137442],\n",
      "       [-0.03970625, -0.15326762, -0.00728039, ...,  0.24924156,\n",
      "         0.18214287,  0.09781954],\n",
      "       [-0.00943448,  0.0287897 ,  0.02993839, ...,  0.05112714,\n",
      "        -0.08802611, -0.03493309],\n",
      "       ..., \n",
      "       [-0.05539514, -0.0950488 ,  0.04716381, ..., -0.05493639,\n",
      "        -0.00572075,  0.01865577],\n",
      "       [ 0.02044478,  0.02346868,  0.0970052 , ...,  0.01133415,\n",
      "        -0.02395428,  0.01051769],\n",
      "       [-0.03355203,  0.00286604,  0.01543209, ...,  0.23163667,\n",
      "         0.21938249,  0.25913417]], dtype=float32), u'locally_sparse_noise_4deg': array([[-0.0560327 ,  0.06420619,  0.03311644, ..., -0.03488717,\n",
      "         0.01390923, -0.01801053],\n",
      "       [ 0.01737338,  0.02674129,  0.02109982, ...,  0.06227133,\n",
      "         0.06492269, -0.03575491],\n",
      "       [ 0.00691203,  0.02218475,  0.02198648, ..., -0.01626846,\n",
      "         0.07871863, -0.08096793],\n",
      "       ..., \n",
      "       [ 0.03611694,  0.06923594,  0.03226061, ..., -0.00316552,\n",
      "         0.05117772, -0.03015754],\n",
      "       [ 0.06979509, -0.02831882, -0.01987103, ..., -0.01529891,\n",
      "         0.00310798, -0.01772454],\n",
      "       [ 0.0239121 , -0.00462807, -0.00946391, ...,  0.02870827,\n",
      "         0.01641047,  0.03396345]], dtype=float32), u'spontaneous': array([[-0.14794816, -0.04959402, -0.08952695, ..., -0.02790617,\n",
      "        -0.03191137,  0.06139551],\n",
      "       [ 0.31562722,  0.32607794,  0.28377104, ...,  0.05454146,\n",
      "        -0.0398485 ,  0.00611158],\n",
      "       [-0.07514673, -0.03973687, -0.11740293, ..., -0.02237449,\n",
      "         0.01109107,  0.01190537],\n",
      "       ..., \n",
      "       [-0.00370159, -0.00261792, -0.01280662, ...,  0.0491644 ,\n",
      "         0.03531077,  0.02168123],\n",
      "       [ 0.39975432,  0.22083588,  0.30839044, ...,  0.00543401,\n",
      "         0.07845054,  0.00563725],\n",
      "       [-0.02748203, -0.07796856, -0.00669505, ...,  0.07198281,\n",
      "         0.12813884,  0.06718802]], dtype=float32), u'static_gratings': array([[-0.07372435,  0.0754509 ,  0.02020251, ...,  0.04982831,\n",
      "         0.08634443, -0.01127109],\n",
      "       [-0.00158857, -0.10042747, -0.06393082, ..., -0.07826665,\n",
      "        -0.04892902, -0.02154472],\n",
      "       [ 0.20686163,  0.38412538,  0.34288454, ..., -0.01306133,\n",
      "         0.02964927, -0.00371174],\n",
      "       ..., \n",
      "       [-0.00532167,  0.00262301, -0.00815794, ..., -0.03704396,\n",
      "         0.00751102,  0.05879803],\n",
      "       [-0.00244674, -0.01694546,  0.13694106, ...,  0.11795874,\n",
      "         0.07080673,  0.11412958],\n",
      "       [ 0.02478856, -0.00530636, -0.01082514, ...,  0.0934469 ,\n",
      "         0.04680834,  0.08943725]], dtype=float32), u'natural_scenes': array([[ 0.10051773,  0.01404272,  0.02304897, ...,  0.01525206,\n",
      "        -0.01113938, -0.02968215],\n",
      "       [-0.02789111, -0.02112819,  0.01174312, ..., -0.05806773,\n",
      "        -0.00796006, -0.00532039],\n",
      "       [ 0.99602985,  0.80226964,  0.8086496 , ..., -0.02782692,\n",
      "        -0.01089031,  0.03927789],\n",
      "       ..., \n",
      "       [-0.04204146, -0.01746041, -0.00709895, ...,  0.08215592,\n",
      "         0.04544676,  0.01879056],\n",
      "       [ 0.9022752 ,  0.70991307,  0.84584355, ..., -0.01965814,\n",
      "        -0.03018131,  0.00266846],\n",
      "       [-0.03867832, -0.02305197, -0.07797909, ..., -0.01469133,\n",
      "        -0.03727186,  0.01293328]], dtype=float32)}\n"
     ]
    }
   ],
   "source": [
    "# Function to create epoched delta f array traces for each cell over the 3 sessions in dictionary called \"ca_trace_by_epoch\"\n",
    "# Like stimuli will be concatenated\n",
    "def create_ca_arrays(epoch_tables, Ca_epoch_dict, epoch_master):\n",
    "    ca_trace_by_epoch = {}\n",
    "    for table_str in epoch_tables:\n",
    "        Ca=Ca_epoch_dict[table_str]\n",
    "        for stim_n in epoch_master[table_str]:\n",
    "            curr_ca = []\n",
    "            for ind, stim_row in epoch_tables[table_str].iterrows():\n",
    "                if stim_row['stimulus'] == stim_n:\n",
    "                    curr_ca.append(Ca[:, stim_row['start'] : stim_row['end']])\n",
    "            curr_ca = np.concatenate(curr_ca, axis=1)\n",
    "            ca_trace_by_epoch[stim_n] = curr_ca\n",
    "    return ca_trace_by_epoch\n",
    "            \n",
    "# Run function to create epoched ca trace arrays\n",
    "ca_trace_by_epoch=create_ca_arrays(epoch_tables, Ca_epoch_dict, epoch_master)\n",
    "print(ca_trace_by_epoch)\n",
    "\n"
   ]
  },
  {
   "cell_type": "markdown",
   "metadata": {},
   "source": [
    "## Use Data to Create Rolling Window Correlation Meauremtents with Minimum Threshold"
   ]
  },
  {
   "cell_type": "code",
   "execution_count": null,
   "metadata": {
    "collapsed": true
   },
   "outputs": [],
   "source": [
    "#loop over epochs, for each epoch loop over all pairs of cells\n",
    "#loop 1 to n then loop 1 to current cell so only make half matrix\n",
    "#then pull out array for two cells and go through then by window compute the pearson\n",
    "#\n",
    "#t_window = 10\n",
    "#t_index = 1500, t1 = t_index, t2 = t1 + t_window\n",
    "#signal_i = cell_array_window[cuurent_epoch][index_cell_i]\n",
    "#signal_j = cell_array_window[cuurent_epoch][index_cell_j]\n",
    "#correlation(signal_i[t1:t2], signal_j[t1, t2])"
   ]
  },
  {
   "cell_type": "code",
   "execution_count": 20,
   "metadata": {},
   "outputs": [
    {
     "ename": "NameError",
     "evalue": "name 'cell_matrix_temp' is not defined",
     "output_type": "error",
     "traceback": [
      "\u001b[0;31m\u001b[0m",
      "\u001b[0;31mNameError\u001b[0mTraceback (most recent call last)",
      "\u001b[0;32m<ipython-input-20-fc1d0250808e>\u001b[0m in \u001b[0;36m<module>\u001b[0;34m()\u001b[0m\n\u001b[1;32m     10\u001b[0m         \u001b[0mcell_matrix_temp_window\u001b[0m\u001b[0;34m=\u001b[0m\u001b[0;34m[\u001b[0m\u001b[0;34m]\u001b[0m\u001b[0;34m\u001b[0m\u001b[0m\n\u001b[1;32m     11\u001b[0m         \u001b[0mcell_temp\u001b[0m\u001b[0;34m=\u001b[0m\u001b[0marray\u001b[0m\u001b[0;34m[\u001b[0m\u001b[0mcell\u001b[0m\u001b[0;34m]\u001b[0m\u001b[0;34m\u001b[0m\u001b[0m\n\u001b[0;32m---> 12\u001b[0;31m         \u001b[0mcell_matrix_temp\u001b[0m\u001b[0;34m.\u001b[0m\u001b[0mappend\u001b[0m\u001b[0;34m(\u001b[0m\u001b[0mcell_temp\u001b[0m\u001b[0;34m)\u001b[0m\u001b[0;34m\u001b[0m\u001b[0m\n\u001b[0m\u001b[1;32m     13\u001b[0m         \u001b[0;31m# Now create rolling window binning by 'window size' to shorten array\u001b[0m\u001b[0;34m\u001b[0m\u001b[0;34m\u001b[0m\u001b[0m\n\u001b[1;32m     14\u001b[0m         \u001b[0;32mfor\u001b[0m \u001b[0mi\u001b[0m \u001b[0;32min\u001b[0m \u001b[0mrange\u001b[0m\u001b[0;34m(\u001b[0m\u001b[0;36m0\u001b[0m\u001b[0;34m,\u001b[0m\u001b[0mlen\u001b[0m\u001b[0;34m(\u001b[0m\u001b[0mcell_temp\u001b[0m\u001b[0;34m-\u001b[0m\u001b[0;36m1\u001b[0m\u001b[0;34m)\u001b[0m\u001b[0;34m)\u001b[0m\u001b[0;34m:\u001b[0m\u001b[0;34m\u001b[0m\u001b[0m\n",
      "\u001b[0;31mNameError\u001b[0m: name 'cell_matrix_temp' is not defined"
     ]
    }
   ],
   "source": [
    "# First create cell_array, a dictionary with cell matrices for epochs where each row is a cell and each column is a deltaF measur\n",
    "cell_array={}\n",
    "cell_array_window={}\n",
    "window_size=10\n",
    "for epoch,array in ca_trace_by_epoch.iteritems():\n",
    "    cell_num=array.shape[0]\n",
    "    cell_matrix_temp=\n",
    "    # First create matrix with every point sampled at 30 Hz\n",
    "    for cell in range(0,(cell_num-1)):\n",
    "        cell_temp=[]\n",
    "        cell_matrix_temp_window=[]\n",
    "        cell_temp=array[cell]\n",
    "        cell_matrix_temp.append(cell_temp)\n",
    "        # Now create rolling window binning by 'window size' to shorten array\n",
    "        for i in range(0,len(cell_temp-1)):\n",
    "            # Bin by taking average with rolling window of window size \n",
    "            window_temp=sum(cell_temp[i:(i+9)])/window_size\n",
    "            cell_matrix_temp_window.append(window_temp)\n",
    "            print cell_matrix_temp\n",
    "            break\n",
    "            \n",
    "    cell_array[epoch]=cell_matrix_temp\n",
    "    cell_array_window[epoch]=cell_matrix_temp_window\n",
    "print cell_array\n",
    "print cell_array_window\n",
    "\n"
   ]
  },
  {
   "cell_type": "code",
   "execution_count": 33,
   "metadata": {},
   "outputs": [
    {
     "name": "stdout",
     "output_type": "stream",
     "text": [
      "[u'spontaneous', u'natural_movie_three', u'natural_movie_one', u'locally_sparse_noise_8deg', u'drifting_gratings', u'locally_sparse_noise_4deg', u'natural_movie_two', u'static_gratings', u'natural_scenes']\n",
      "[u'spontaneous', u'natural_movie_three', u'natural_movie_one', u'locally_sparse_noise_8deg', u'drifting_gratings', u'locally_sparse_noise_4deg', u'natural_movie_two', u'static_gratings', u'natural_scenes']\n"
     ]
    }
   ],
   "source": [
    "print cell_array.keys()\n",
    "print cell_array_window.keys()"
   ]
  },
  {
   "cell_type": "code",
   "execution_count": 29,
   "metadata": {},
   "outputs": [
    {
     "name": "stderr",
     "output_type": "stream",
     "text": [
      "IOPub data rate exceeded.\n",
      "The notebook server will temporarily stop sending output\n",
      "to the client in order to avoid crashing it.\n",
      "To change this limit, set the config variable\n",
      "`--NotebookApp.iopub_data_rate_limit`.\n"
     ]
    }
   ],
   "source": [
    "for row in cell_array_window.iterrows():\n",
    "    for column in \n",
    "#    for i in range(0, (len(trace)-1)):\n",
    "        "
   ]
  },
  {
   "cell_type": "code",
   "execution_count": null,
   "metadata": {
    "collapsed": true
   },
   "outputs": [],
   "source": [
    "for epoch in ca_trace_by_epoch:\n",
    "    for i in range(len(epoch)a"
   ]
  },
  {
   "cell_type": "markdown",
   "metadata": {},
   "source": [
    "## Get signal correlation"
   ]
  },
  {
   "cell_type": "code",
   "execution_count": 85,
   "metadata": {},
   "outputs": [
    {
     "name": "stdout",
     "output_type": "stream",
     "text": [
      "{<allensdk.core.brain_observatory_nwb_data_set.BrainObservatoryNwbDataSet object at 0x7f65ab3e1b50>: <allensdk.brain_observatory.natural_scenes.NaturalScenes object at 0x7f65abb51810>}\n"
     ]
    }
   ],
   "source": [
    "for data in data_sets:\n",
    "    # Import natural scenes\n",
    "    ns={}\n",
    "    from allensdk.brain_observatory.natural_scenes import NaturalScenes\n",
    "    ns[data] = NaturalScenes(data)\n",
    "print(ns)"
   ]
  },
  {
   "cell_type": "code",
   "execution_count": 86,
   "metadata": {},
   "outputs": [
    {
     "name": "stdout",
     "output_type": "stream",
     "text": [
      "{'session_id_A': '/data/dynamic-brain-workshop/brain_observatory_cache/ophys_experiment_analysis/559192380_three_session_A_analysis.h5', 'session_id_C': '/data/dynamic-brain-workshop/brain_observatory_cache/ophys_experiment_analysis/558581038_three_session_C_analysis.h5', 'session_id_B': '/data/dynamic-brain-workshop/brain_observatory_cache/ophys_experiment_analysis/559082739_three_session_B_analysis.h5'}\n"
     ]
    }
   ],
   "source": [
    "# Create list of session names\n",
    "session_type={'session_id_A': 'three_session_A' , 'session_id_B': 'three_session_B', 'session_id_C': 'three_session_C'}\n",
    "\n",
    "#Create analysis paths in dict called 'analysis path file'\n",
    "analysis_path = os.path.join(drive_path,'ophys_experiment_analysis')\n",
    "analysis_path_file={}\n",
    "for session,idd in session_ids.iteritems():\n",
    "    analysis_path_file[str(session)] = os.path.join(analysis_path, str(idd)+'_'+ str(session_type[session])+'_analysis.h5')\n",
    "print analysis_path_file"
   ]
  },
  {
   "cell_type": "code",
   "execution_count": 95,
   "metadata": {},
   "outputs": [],
   "source": [
    "analysis_file=analysis_path_file['session_id_B']\n",
    "f = h5py.File(analysis_file, 'r')\n",
    "sc = f['analysis']['signal_corr_ns'].value\n",
    "f.close()\n",
    "#analysis_file = analysis_path_file['session_id_B']\n",
    "#f = h5py.File(analysis_file, 'r')\n",
    "#sc= f['analysis']['signal_corr_ns'].value\n",
    "#sc= analysis_path_file['session_id_B']['analysis']['signal_corr_ns'].value\n",
    "#analysis_file.close()"
   ]
  },
  {
   "cell_type": "code",
   "execution_count": 98,
   "metadata": {},
   "outputs": [
    {
     "name": "stdout",
     "output_type": "stream",
     "text": [
      "(64, 64)\n"
     ]
    }
   ],
   "source": [
    "# Print shape of one signal correlation to check structure\n",
    "print sc.shape"
   ]
  },
  {
   "cell_type": "code",
   "execution_count": 100,
   "metadata": {},
   "outputs": [
    {
     "data": {
      "text/plain": [
       "<matplotlib.colorbar.Colorbar at 0x7f65ab729550>"
      ]
     },
     "execution_count": 100,
     "metadata": {},
     "output_type": "execute_result"
    },
    {
     "data": {
      "image/png": "[encoded data removed]",
      "text/plain": [
       "<matplotlib.figure.Figure at 0x7f65aba289d0>"
      ]
     },
     "metadata": {},
     "output_type": "display_data"
    }
   ],
   "source": [
    "# Plot correlation matrix of cells for Natrual Scenes for three sessions\n",
    "plt.imshow((sc), cmap='viridis', interpolation='none')\n",
    "plt.xlabel(\"Cell #\")\n",
    "plt.ylabel(\"Cell #\")\n",
    "plt.title(\"Signal Correlations\")\n",
    "plt.colorbar()"
   ]
  }
 ],
 "metadata": {
  "kernelspec": {
   "display_name": "Python 2",
   "language": "python",
   "name": "python2"
  },
  "language_info": {
   "codemirror_mode": {
    "name": "ipython",
    "version": 2
   },
   "file_extension": ".py",
   "mimetype": "text/x-python",
   "name": "python",
   "nbconvert_exporter": "python",
   "pygments_lexer": "ipython2",
   "version": "2.7.13"
  }
 },
 "nbformat": 4,
 "nbformat_minor": 2
}
