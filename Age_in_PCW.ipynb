{
 "cells": [
  {
   "cell_type": "code",
   "execution_count": 7,
   "metadata": {},
   "outputs": [],
   "source": [
    "# Function to convert an age expressed in pcw, months, or years into post-conception weeks\n",
    "# Potentially useful if your data is not all in the same units\n",
    "# The function assumes that the units on the original data are either 'pcw', 'mos', or 'yrs'\n",
    "\n",
    "def age_in_pcw(age):\n",
    "    num, unit = age.split(' ')\n",
    "    if unit == 'pcw':\n",
    "        return int(num)\n",
    "    elif unit == 'mos':\n",
    "        return int(4.34524 * float(num)) + 40\n",
    "    elif unit == 'yrs':\n",
    "        return int(52.1429 * float(num)) + 40\n",
    "    else:\n",
    "        return 'What are these units???'"
   ]
  },
  {
   "cell_type": "code",
   "execution_count": 8,
   "metadata": {},
   "outputs": [
    {
     "name": "stdout",
     "output_type": "stream",
     "text": [
      "[12, 13, 16, 17, 19, 21, 24, 26, 37, 57, 83, 92, 144, 196, 457, 613, 717, 978, 1030, 1135, 1604, 1917, 1969, 2125, 'What are these units???']\n"
     ]
    }
   ],
   "source": [
    "# Example\n",
    "\n",
    "ages_in = ['12 pcw', '13 pcw', '16 pcw', '17 pcw', '19 pcw', '21 pcw', '24 pcw',\n",
    "       '26 pcw', '37 pcw', '4 mos', '10 mos', '1 yrs', '2 yrs', '3 yrs',\n",
    "       '8 yrs', '11 yrs', '13 yrs', '18 yrs', '19 yrs', '21 yrs', '30 yrs',\n",
    "       '36 yrs', '37 yrs', '40 yrs', '5 days']\n",
    "ages_out = []\n",
    "for age in ages_in:\n",
    "    ages_out += [age_in_pcw(age)]\n",
    "print(ages_out)     "
   ]
  },
  {
   "cell_type": "code",
   "execution_count": null,
   "metadata": {
    "collapsed": true
   },
   "outputs": [],
   "source": []
  }
 ],
 "metadata": {
  "kernelspec": {
   "display_name": "Python 2",
   "language": "python",
   "name": "python2"
  },
  "language_info": {
   "codemirror_mode": {
    "name": "ipython",
    "version": 2
   },
   "file_extension": ".py",
   "mimetype": "text/x-python",
   "name": "python",
   "nbconvert_exporter": "python",
   "pygments_lexer": "ipython2",
   "version": "2.7.13"
  }
 },
 "nbformat": 4,
 "nbformat_minor": 2
}
